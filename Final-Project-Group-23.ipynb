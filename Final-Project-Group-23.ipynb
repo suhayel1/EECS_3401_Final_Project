{
 "cells": [
  {
   "cell_type": "markdown",
   "metadata": {},
   "source": [
    "# EECS 3401 End-to-end Machine Learning Project\n",
    "\n",
    "### **Authors: Suhayel Uddin, Aidan Dalpe**\n",
    "\n",
    "**Original Dataset Source: asaniczka (Kaggle username). (2023). Amazon Canada Products 2023. Kaggle. https://www.kaggle.com/datasets/asaniczka/amazon-canada-products-2023-2-1m-products/data**\n",
    "\n",
    "Markdown cells based on template provided in 'end-to-end-studentsPerformance-RA-eclass.ipynb' by Ruba Al Omari"
   ]
  },
  {
   "cell_type": "code",
   "execution_count": 1,
   "metadata": {},
   "outputs": [],
   "source": [
    "# Import libraries\n",
    "import pandas as pd\n",
    "import numpy as np\n",
    "import matplotlib.pyplot as plt\n",
    "import seaborn as sns\n",
    "from sklearn.compose import ColumnTransformer\n",
    "from sklearn.pipeline import make_pipeline\n",
    "from sklearn.preprocessing import OneHotEncoder\n",
    "from sklearn.impute import SimpleImputer\n",
    "from sklearn.preprocessing import StandardScaler\n",
    "from sklearn.model_selection import train_test_split, cross_val_score, cross_val_predict\n",
    "from sklearn.metrics import precision_score, recall_score, confusion_matrix, precision_score, recall_score, f1_score, roc_curve , roc_auc_score, classification_report, ConfusionMatrixDisplay\n",
    "from sklearn.svm import SVC"
   ]
  },
  {
   "cell_type": "markdown",
   "metadata": {},
   "source": [
    "# 1- Look at the big picture and frame the problem."
   ]
  },
  {
   "cell_type": "markdown",
   "metadata": {},
   "source": [
    "### Frame the problem\n",
    "1. Supervised learning – training examples are labeled.\n",
    "2. A classification task – predict a binary nominal value (true or false).\n",
    "3. Batch learning \n",
    "    - Small data set\n",
    "    - No continuous flow of data coming into the system\n",
    "    - No need to adjust to changing data rapidly\n",
    "\n",
    "### Look at the big picture\n",
    "\n",
    "**Task:** Predict whether or not product is bestseller <br><br>\n",
    "**Big Picture:**<br>\n",
    "- Predictions will be helpful to company in deciding whether to increase supply of a specific product.\n",
    "- Predictions will encourage company in creating products that serve as complements to a specific product."
   ]
  },
  {
   "cell_type": "markdown",
   "metadata": {},
   "source": [
    "# 2- Load the dataset\n",
    "\n",
    "Get the dataset and make a copy of dataset."
   ]
  },
  {
   "cell_type": "code",
   "execution_count": 2,
   "metadata": {},
   "outputs": [],
   "source": [
    "file_path = \"C:/Users/suhay/Documents/Uni/York/EECS3401/Project/archive/amz_ca_total_products_data_processed.csv\" # change before running\n",
    "products = pd.read_csv(file_path, sep=',')\n",
    "products_copy = products.copy()"
   ]
  },
  {
   "cell_type": "markdown",
   "metadata": {},
   "source": [
    "## 2.1 Take a quick look at the data structure\n",
    "\n",
    "**Number of features:**&emsp;11<br>\n",
    "**Number of examples:**&ensp;2,165,926"
   ]
  },
  {
   "cell_type": "code",
   "execution_count": 3,
   "metadata": {},
   "outputs": [
    {
     "data": {
      "text/html": [
       "<div>\n",
       "<style scoped>\n",
       "    .dataframe tbody tr th:only-of-type {\n",
       "        vertical-align: middle;\n",
       "    }\n",
       "\n",
       "    .dataframe tbody tr th {\n",
       "        vertical-align: top;\n",
       "    }\n",
       "\n",
       "    .dataframe thead th {\n",
       "        text-align: right;\n",
       "    }\n",
       "</style>\n",
       "<table border=\"1\" class=\"dataframe\">\n",
       "  <thead>\n",
       "    <tr style=\"text-align: right;\">\n",
       "      <th></th>\n",
       "      <th>asin</th>\n",
       "      <th>title</th>\n",
       "      <th>imgUrl</th>\n",
       "      <th>productURL</th>\n",
       "      <th>stars</th>\n",
       "      <th>reviews</th>\n",
       "      <th>price</th>\n",
       "      <th>listPrice</th>\n",
       "      <th>categoryName</th>\n",
       "      <th>isBestSeller</th>\n",
       "      <th>boughtInLastMonth</th>\n",
       "    </tr>\n",
       "  </thead>\n",
       "  <tbody>\n",
       "    <tr>\n",
       "      <th>0</th>\n",
       "      <td>B07CV4L6HX</td>\n",
       "      <td>Green Leaf WW3D Wonder Extension Cord Winder, ...</td>\n",
       "      <td>https://m.media-amazon.com/images/I/81cRe0AVC4...</td>\n",
       "      <td>https://www.amazon.ca/dp/B07CV4L6HX</td>\n",
       "      <td>4.4</td>\n",
       "      <td>2876</td>\n",
       "      <td>47.69</td>\n",
       "      <td>0.00</td>\n",
       "      <td>Industrial  Scientific</td>\n",
       "      <td>False</td>\n",
       "      <td>0</td>\n",
       "    </tr>\n",
       "    <tr>\n",
       "      <th>1</th>\n",
       "      <td>B09N1HGY74</td>\n",
       "      <td>8pcs Toilet Seat Bumpers Universal Toilet Repl...</td>\n",
       "      <td>https://m.media-amazon.com/images/I/512CpB-EP5...</td>\n",
       "      <td>https://www.amazon.ca/dp/B09N1HGY74</td>\n",
       "      <td>3.8</td>\n",
       "      <td>55</td>\n",
       "      <td>10.99</td>\n",
       "      <td>0.00</td>\n",
       "      <td>Industrial  Scientific</td>\n",
       "      <td>False</td>\n",
       "      <td>100</td>\n",
       "    </tr>\n",
       "    <tr>\n",
       "      <th>2</th>\n",
       "      <td>B087P7538J</td>\n",
       "      <td>YaeCCC 19 Pcs Hole Saw Kit 3/4''(19mm)- 6''(15...</td>\n",
       "      <td>https://m.media-amazon.com/images/I/71P+qLFDFc...</td>\n",
       "      <td>https://www.amazon.ca/dp/B087P7538J</td>\n",
       "      <td>4.0</td>\n",
       "      <td>126</td>\n",
       "      <td>25.99</td>\n",
       "      <td>27.99</td>\n",
       "      <td>Industrial  Scientific</td>\n",
       "      <td>False</td>\n",
       "      <td>50</td>\n",
       "    </tr>\n",
       "    <tr>\n",
       "      <th>3</th>\n",
       "      <td>B0822FF7YQ</td>\n",
       "      <td>LLPT Butyl Putty Tape White 1 Inch x 33Ft Tigh...</td>\n",
       "      <td>https://m.media-amazon.com/images/I/61wfWLZRn-...</td>\n",
       "      <td>https://www.amazon.ca/dp/B0822FF7YQ</td>\n",
       "      <td>4.5</td>\n",
       "      <td>1936</td>\n",
       "      <td>21.99</td>\n",
       "      <td>30.99</td>\n",
       "      <td>Industrial  Scientific</td>\n",
       "      <td>False</td>\n",
       "      <td>100</td>\n",
       "    </tr>\n",
       "    <tr>\n",
       "      <th>4</th>\n",
       "      <td>B08NTR8NN4</td>\n",
       "      <td>Lightbeam 16\" Long Stem Deep Fry Thermometer w...</td>\n",
       "      <td>https://m.media-amazon.com/images/I/61qJG-y1He...</td>\n",
       "      <td>https://www.amazon.ca/dp/B08NTR8NN4</td>\n",
       "      <td>4.2</td>\n",
       "      <td>46</td>\n",
       "      <td>18.99</td>\n",
       "      <td>0.00</td>\n",
       "      <td>Industrial  Scientific</td>\n",
       "      <td>False</td>\n",
       "      <td>100</td>\n",
       "    </tr>\n",
       "    <tr>\n",
       "      <th>...</th>\n",
       "      <td>...</td>\n",
       "      <td>...</td>\n",
       "      <td>...</td>\n",
       "      <td>...</td>\n",
       "      <td>...</td>\n",
       "      <td>...</td>\n",
       "      <td>...</td>\n",
       "      <td>...</td>\n",
       "      <td>...</td>\n",
       "      <td>...</td>\n",
       "      <td>...</td>\n",
       "    </tr>\n",
       "    <tr>\n",
       "      <th>2165921</th>\n",
       "      <td>B0B9Y4PJZ2</td>\n",
       "      <td>Climbing Rope Net for Kids, Net Climbing Cargo...</td>\n",
       "      <td>https://m.media-amazon.com/images/I/81c39KcQWI...</td>\n",
       "      <td>https://www.amazon.ca/dp/B0B9Y4PJZ2</td>\n",
       "      <td>0.0</td>\n",
       "      <td>0</td>\n",
       "      <td>52.99</td>\n",
       "      <td>0.00</td>\n",
       "      <td>Play Sets  Playground Equipment</td>\n",
       "      <td>False</td>\n",
       "      <td>0</td>\n",
       "    </tr>\n",
       "    <tr>\n",
       "      <th>2165922</th>\n",
       "      <td>B0B9XBN868</td>\n",
       "      <td>YIJU Gymnastic Rings Workout Set with Adjustab...</td>\n",
       "      <td>https://m.media-amazon.com/images/I/61p9ROOs62...</td>\n",
       "      <td>https://www.amazon.ca/dp/B0B9XBN868</td>\n",
       "      <td>0.0</td>\n",
       "      <td>0</td>\n",
       "      <td>15.99</td>\n",
       "      <td>0.00</td>\n",
       "      <td>Play Sets  Playground Equipment</td>\n",
       "      <td>False</td>\n",
       "      <td>0</td>\n",
       "    </tr>\n",
       "    <tr>\n",
       "      <th>2165923</th>\n",
       "      <td>B0B9T78NVK</td>\n",
       "      <td>Fancyes 2X Heavy Duty Swing Hangers Hardware S...</td>\n",
       "      <td>https://m.media-amazon.com/images/I/51VdGcyjqO...</td>\n",
       "      <td>https://www.amazon.ca/dp/B0B9T78NVK</td>\n",
       "      <td>0.0</td>\n",
       "      <td>0</td>\n",
       "      <td>15.29</td>\n",
       "      <td>0.00</td>\n",
       "      <td>Play Sets  Playground Equipment</td>\n",
       "      <td>False</td>\n",
       "      <td>0</td>\n",
       "    </tr>\n",
       "    <tr>\n",
       "      <th>2165924</th>\n",
       "      <td>B0B9T41CCT</td>\n",
       "      <td>SM SunniMix 2Pcs Stainless Steel Swing Hangers...</td>\n",
       "      <td>https://m.media-amazon.com/images/I/51o23h9tR9...</td>\n",
       "      <td>https://www.amazon.ca/dp/B0B9T41CCT</td>\n",
       "      <td>0.0</td>\n",
       "      <td>0</td>\n",
       "      <td>21.09</td>\n",
       "      <td>0.00</td>\n",
       "      <td>Play Sets  Playground Equipment</td>\n",
       "      <td>False</td>\n",
       "      <td>0</td>\n",
       "    </tr>\n",
       "    <tr>\n",
       "      <th>2165925</th>\n",
       "      <td>B0B9T39PND</td>\n",
       "      <td>YIJU 2Pcs Swing Hangers Sandbag Hook Hardware ...</td>\n",
       "      <td>https://m.media-amazon.com/images/I/51dJ7HtG7L...</td>\n",
       "      <td>https://www.amazon.ca/dp/B0B9T39PND</td>\n",
       "      <td>0.0</td>\n",
       "      <td>0</td>\n",
       "      <td>21.99</td>\n",
       "      <td>0.00</td>\n",
       "      <td>Play Sets  Playground Equipment</td>\n",
       "      <td>False</td>\n",
       "      <td>0</td>\n",
       "    </tr>\n",
       "  </tbody>\n",
       "</table>\n",
       "<p>2165926 rows × 11 columns</p>\n",
       "</div>"
      ],
      "text/plain": [
       "               asin                                              title  \\\n",
       "0        B07CV4L6HX  Green Leaf WW3D Wonder Extension Cord Winder, ...   \n",
       "1        B09N1HGY74  8pcs Toilet Seat Bumpers Universal Toilet Repl...   \n",
       "2        B087P7538J  YaeCCC 19 Pcs Hole Saw Kit 3/4''(19mm)- 6''(15...   \n",
       "3        B0822FF7YQ  LLPT Butyl Putty Tape White 1 Inch x 33Ft Tigh...   \n",
       "4        B08NTR8NN4  Lightbeam 16\" Long Stem Deep Fry Thermometer w...   \n",
       "...             ...                                                ...   \n",
       "2165921  B0B9Y4PJZ2  Climbing Rope Net for Kids, Net Climbing Cargo...   \n",
       "2165922  B0B9XBN868  YIJU Gymnastic Rings Workout Set with Adjustab...   \n",
       "2165923  B0B9T78NVK  Fancyes 2X Heavy Duty Swing Hangers Hardware S...   \n",
       "2165924  B0B9T41CCT  SM SunniMix 2Pcs Stainless Steel Swing Hangers...   \n",
       "2165925  B0B9T39PND  YIJU 2Pcs Swing Hangers Sandbag Hook Hardware ...   \n",
       "\n",
       "                                                    imgUrl  \\\n",
       "0        https://m.media-amazon.com/images/I/81cRe0AVC4...   \n",
       "1        https://m.media-amazon.com/images/I/512CpB-EP5...   \n",
       "2        https://m.media-amazon.com/images/I/71P+qLFDFc...   \n",
       "3        https://m.media-amazon.com/images/I/61wfWLZRn-...   \n",
       "4        https://m.media-amazon.com/images/I/61qJG-y1He...   \n",
       "...                                                    ...   \n",
       "2165921  https://m.media-amazon.com/images/I/81c39KcQWI...   \n",
       "2165922  https://m.media-amazon.com/images/I/61p9ROOs62...   \n",
       "2165923  https://m.media-amazon.com/images/I/51VdGcyjqO...   \n",
       "2165924  https://m.media-amazon.com/images/I/51o23h9tR9...   \n",
       "2165925  https://m.media-amazon.com/images/I/51dJ7HtG7L...   \n",
       "\n",
       "                                  productURL  stars  reviews  price  \\\n",
       "0        https://www.amazon.ca/dp/B07CV4L6HX    4.4     2876  47.69   \n",
       "1        https://www.amazon.ca/dp/B09N1HGY74    3.8       55  10.99   \n",
       "2        https://www.amazon.ca/dp/B087P7538J    4.0      126  25.99   \n",
       "3        https://www.amazon.ca/dp/B0822FF7YQ    4.5     1936  21.99   \n",
       "4        https://www.amazon.ca/dp/B08NTR8NN4    4.2       46  18.99   \n",
       "...                                      ...    ...      ...    ...   \n",
       "2165921  https://www.amazon.ca/dp/B0B9Y4PJZ2    0.0        0  52.99   \n",
       "2165922  https://www.amazon.ca/dp/B0B9XBN868    0.0        0  15.99   \n",
       "2165923  https://www.amazon.ca/dp/B0B9T78NVK    0.0        0  15.29   \n",
       "2165924  https://www.amazon.ca/dp/B0B9T41CCT    0.0        0  21.09   \n",
       "2165925  https://www.amazon.ca/dp/B0B9T39PND    0.0        0  21.99   \n",
       "\n",
       "         listPrice                     categoryName  isBestSeller  \\\n",
       "0             0.00           Industrial  Scientific         False   \n",
       "1             0.00           Industrial  Scientific         False   \n",
       "2            27.99           Industrial  Scientific         False   \n",
       "3            30.99           Industrial  Scientific         False   \n",
       "4             0.00           Industrial  Scientific         False   \n",
       "...            ...                              ...           ...   \n",
       "2165921       0.00  Play Sets  Playground Equipment         False   \n",
       "2165922       0.00  Play Sets  Playground Equipment         False   \n",
       "2165923       0.00  Play Sets  Playground Equipment         False   \n",
       "2165924       0.00  Play Sets  Playground Equipment         False   \n",
       "2165925       0.00  Play Sets  Playground Equipment         False   \n",
       "\n",
       "         boughtInLastMonth  \n",
       "0                        0  \n",
       "1                      100  \n",
       "2                       50  \n",
       "3                      100  \n",
       "4                      100  \n",
       "...                    ...  \n",
       "2165921                  0  \n",
       "2165922                  0  \n",
       "2165923                  0  \n",
       "2165924                  0  \n",
       "2165925                  0  \n",
       "\n",
       "[2165926 rows x 11 columns]"
      ]
     },
     "execution_count": 3,
     "metadata": {},
     "output_type": "execute_result"
    }
   ],
   "source": [
    "products"
   ]
  },
  {
   "cell_type": "code",
   "execution_count": 4,
   "metadata": {},
   "outputs": [
    {
     "data": {
      "text/html": [
       "<div>\n",
       "<style scoped>\n",
       "    .dataframe tbody tr th:only-of-type {\n",
       "        vertical-align: middle;\n",
       "    }\n",
       "\n",
       "    .dataframe tbody tr th {\n",
       "        vertical-align: top;\n",
       "    }\n",
       "\n",
       "    .dataframe thead th {\n",
       "        text-align: right;\n",
       "    }\n",
       "</style>\n",
       "<table border=\"1\" class=\"dataframe\">\n",
       "  <thead>\n",
       "    <tr style=\"text-align: right;\">\n",
       "      <th></th>\n",
       "      <th>asin</th>\n",
       "      <th>title</th>\n",
       "      <th>imgUrl</th>\n",
       "      <th>productURL</th>\n",
       "      <th>stars</th>\n",
       "      <th>reviews</th>\n",
       "      <th>price</th>\n",
       "      <th>listPrice</th>\n",
       "      <th>categoryName</th>\n",
       "      <th>isBestSeller</th>\n",
       "      <th>boughtInLastMonth</th>\n",
       "    </tr>\n",
       "  </thead>\n",
       "  <tbody>\n",
       "    <tr>\n",
       "      <th>0</th>\n",
       "      <td>B07CV4L6HX</td>\n",
       "      <td>Green Leaf WW3D Wonder Extension Cord Winder, ...</td>\n",
       "      <td>https://m.media-amazon.com/images/I/81cRe0AVC4...</td>\n",
       "      <td>https://www.amazon.ca/dp/B07CV4L6HX</td>\n",
       "      <td>4.4</td>\n",
       "      <td>2876</td>\n",
       "      <td>47.69</td>\n",
       "      <td>0.00</td>\n",
       "      <td>Industrial  Scientific</td>\n",
       "      <td>False</td>\n",
       "      <td>0</td>\n",
       "    </tr>\n",
       "    <tr>\n",
       "      <th>1</th>\n",
       "      <td>B09N1HGY74</td>\n",
       "      <td>8pcs Toilet Seat Bumpers Universal Toilet Repl...</td>\n",
       "      <td>https://m.media-amazon.com/images/I/512CpB-EP5...</td>\n",
       "      <td>https://www.amazon.ca/dp/B09N1HGY74</td>\n",
       "      <td>3.8</td>\n",
       "      <td>55</td>\n",
       "      <td>10.99</td>\n",
       "      <td>0.00</td>\n",
       "      <td>Industrial  Scientific</td>\n",
       "      <td>False</td>\n",
       "      <td>100</td>\n",
       "    </tr>\n",
       "    <tr>\n",
       "      <th>2</th>\n",
       "      <td>B087P7538J</td>\n",
       "      <td>YaeCCC 19 Pcs Hole Saw Kit 3/4''(19mm)- 6''(15...</td>\n",
       "      <td>https://m.media-amazon.com/images/I/71P+qLFDFc...</td>\n",
       "      <td>https://www.amazon.ca/dp/B087P7538J</td>\n",
       "      <td>4.0</td>\n",
       "      <td>126</td>\n",
       "      <td>25.99</td>\n",
       "      <td>27.99</td>\n",
       "      <td>Industrial  Scientific</td>\n",
       "      <td>False</td>\n",
       "      <td>50</td>\n",
       "    </tr>\n",
       "    <tr>\n",
       "      <th>3</th>\n",
       "      <td>B0822FF7YQ</td>\n",
       "      <td>LLPT Butyl Putty Tape White 1 Inch x 33Ft Tigh...</td>\n",
       "      <td>https://m.media-amazon.com/images/I/61wfWLZRn-...</td>\n",
       "      <td>https://www.amazon.ca/dp/B0822FF7YQ</td>\n",
       "      <td>4.5</td>\n",
       "      <td>1936</td>\n",
       "      <td>21.99</td>\n",
       "      <td>30.99</td>\n",
       "      <td>Industrial  Scientific</td>\n",
       "      <td>False</td>\n",
       "      <td>100</td>\n",
       "    </tr>\n",
       "    <tr>\n",
       "      <th>4</th>\n",
       "      <td>B08NTR8NN4</td>\n",
       "      <td>Lightbeam 16\" Long Stem Deep Fry Thermometer w...</td>\n",
       "      <td>https://m.media-amazon.com/images/I/61qJG-y1He...</td>\n",
       "      <td>https://www.amazon.ca/dp/B08NTR8NN4</td>\n",
       "      <td>4.2</td>\n",
       "      <td>46</td>\n",
       "      <td>18.99</td>\n",
       "      <td>0.00</td>\n",
       "      <td>Industrial  Scientific</td>\n",
       "      <td>False</td>\n",
       "      <td>100</td>\n",
       "    </tr>\n",
       "  </tbody>\n",
       "</table>\n",
       "</div>"
      ],
      "text/plain": [
       "         asin                                              title  \\\n",
       "0  B07CV4L6HX  Green Leaf WW3D Wonder Extension Cord Winder, ...   \n",
       "1  B09N1HGY74  8pcs Toilet Seat Bumpers Universal Toilet Repl...   \n",
       "2  B087P7538J  YaeCCC 19 Pcs Hole Saw Kit 3/4''(19mm)- 6''(15...   \n",
       "3  B0822FF7YQ  LLPT Butyl Putty Tape White 1 Inch x 33Ft Tigh...   \n",
       "4  B08NTR8NN4  Lightbeam 16\" Long Stem Deep Fry Thermometer w...   \n",
       "\n",
       "                                              imgUrl  \\\n",
       "0  https://m.media-amazon.com/images/I/81cRe0AVC4...   \n",
       "1  https://m.media-amazon.com/images/I/512CpB-EP5...   \n",
       "2  https://m.media-amazon.com/images/I/71P+qLFDFc...   \n",
       "3  https://m.media-amazon.com/images/I/61wfWLZRn-...   \n",
       "4  https://m.media-amazon.com/images/I/61qJG-y1He...   \n",
       "\n",
       "                            productURL  stars  reviews  price  listPrice  \\\n",
       "0  https://www.amazon.ca/dp/B07CV4L6HX    4.4     2876  47.69       0.00   \n",
       "1  https://www.amazon.ca/dp/B09N1HGY74    3.8       55  10.99       0.00   \n",
       "2  https://www.amazon.ca/dp/B087P7538J    4.0      126  25.99      27.99   \n",
       "3  https://www.amazon.ca/dp/B0822FF7YQ    4.5     1936  21.99      30.99   \n",
       "4  https://www.amazon.ca/dp/B08NTR8NN4    4.2       46  18.99       0.00   \n",
       "\n",
       "             categoryName  isBestSeller  boughtInLastMonth  \n",
       "0  Industrial  Scientific         False                  0  \n",
       "1  Industrial  Scientific         False                100  \n",
       "2  Industrial  Scientific         False                 50  \n",
       "3  Industrial  Scientific         False                100  \n",
       "4  Industrial  Scientific         False                100  "
      ]
     },
     "execution_count": 4,
     "metadata": {},
     "output_type": "execute_result"
    }
   ],
   "source": [
    "# first 5 rows of 'products'\n",
    "products.head()"
   ]
  },
  {
   "cell_type": "code",
   "execution_count": 5,
   "metadata": {},
   "outputs": [
    {
     "data": {
      "text/html": [
       "<div>\n",
       "<style scoped>\n",
       "    .dataframe tbody tr th:only-of-type {\n",
       "        vertical-align: middle;\n",
       "    }\n",
       "\n",
       "    .dataframe tbody tr th {\n",
       "        vertical-align: top;\n",
       "    }\n",
       "\n",
       "    .dataframe thead th {\n",
       "        text-align: right;\n",
       "    }\n",
       "</style>\n",
       "<table border=\"1\" class=\"dataframe\">\n",
       "  <thead>\n",
       "    <tr style=\"text-align: right;\">\n",
       "      <th></th>\n",
       "      <th>stars</th>\n",
       "      <th>reviews</th>\n",
       "      <th>price</th>\n",
       "      <th>listPrice</th>\n",
       "      <th>boughtInLastMonth</th>\n",
       "    </tr>\n",
       "  </thead>\n",
       "  <tbody>\n",
       "    <tr>\n",
       "      <th>count</th>\n",
       "      <td>2.165926e+06</td>\n",
       "      <td>2.165926e+06</td>\n",
       "      <td>2.165926e+06</td>\n",
       "      <td>2.165926e+06</td>\n",
       "      <td>2.165926e+06</td>\n",
       "    </tr>\n",
       "    <tr>\n",
       "      <th>mean</th>\n",
       "      <td>2.623661e+00</td>\n",
       "      <td>5.457391e+02</td>\n",
       "      <td>1.112207e+02</td>\n",
       "      <td>4.651383e+00</td>\n",
       "      <td>9.004624e+00</td>\n",
       "    </tr>\n",
       "    <tr>\n",
       "      <th>std</th>\n",
       "      <td>2.149905e+00</td>\n",
       "      <td>4.355225e+03</td>\n",
       "      <td>4.976653e+02</td>\n",
       "      <td>2.984392e+01</td>\n",
       "      <td>9.838265e+01</td>\n",
       "    </tr>\n",
       "    <tr>\n",
       "      <th>min</th>\n",
       "      <td>0.000000e+00</td>\n",
       "      <td>0.000000e+00</td>\n",
       "      <td>0.000000e+00</td>\n",
       "      <td>0.000000e+00</td>\n",
       "      <td>0.000000e+00</td>\n",
       "    </tr>\n",
       "    <tr>\n",
       "      <th>25%</th>\n",
       "      <td>0.000000e+00</td>\n",
       "      <td>0.000000e+00</td>\n",
       "      <td>1.542000e+01</td>\n",
       "      <td>0.000000e+00</td>\n",
       "      <td>0.000000e+00</td>\n",
       "    </tr>\n",
       "    <tr>\n",
       "      <th>50%</th>\n",
       "      <td>4.000000e+00</td>\n",
       "      <td>5.000000e+00</td>\n",
       "      <td>2.742000e+01</td>\n",
       "      <td>0.000000e+00</td>\n",
       "      <td>0.000000e+00</td>\n",
       "    </tr>\n",
       "    <tr>\n",
       "      <th>75%</th>\n",
       "      <td>4.500000e+00</td>\n",
       "      <td>1.230000e+02</td>\n",
       "      <td>5.750000e+01</td>\n",
       "      <td>0.000000e+00</td>\n",
       "      <td>0.000000e+00</td>\n",
       "    </tr>\n",
       "    <tr>\n",
       "      <th>max</th>\n",
       "      <td>5.000000e+00</td>\n",
       "      <td>8.688650e+05</td>\n",
       "      <td>4.090000e+04</td>\n",
       "      <td>9.999900e+02</td>\n",
       "      <td>2.000000e+04</td>\n",
       "    </tr>\n",
       "  </tbody>\n",
       "</table>\n",
       "</div>"
      ],
      "text/plain": [
       "              stars       reviews         price     listPrice  \\\n",
       "count  2.165926e+06  2.165926e+06  2.165926e+06  2.165926e+06   \n",
       "mean   2.623661e+00  5.457391e+02  1.112207e+02  4.651383e+00   \n",
       "std    2.149905e+00  4.355225e+03  4.976653e+02  2.984392e+01   \n",
       "min    0.000000e+00  0.000000e+00  0.000000e+00  0.000000e+00   \n",
       "25%    0.000000e+00  0.000000e+00  1.542000e+01  0.000000e+00   \n",
       "50%    4.000000e+00  5.000000e+00  2.742000e+01  0.000000e+00   \n",
       "75%    4.500000e+00  1.230000e+02  5.750000e+01  0.000000e+00   \n",
       "max    5.000000e+00  8.688650e+05  4.090000e+04  9.999900e+02   \n",
       "\n",
       "       boughtInLastMonth  \n",
       "count       2.165926e+06  \n",
       "mean        9.004624e+00  \n",
       "std         9.838265e+01  \n",
       "min         0.000000e+00  \n",
       "25%         0.000000e+00  \n",
       "50%         0.000000e+00  \n",
       "75%         0.000000e+00  \n",
       "max         2.000000e+04  "
      ]
     },
     "execution_count": 5,
     "metadata": {},
     "output_type": "execute_result"
    }
   ],
   "source": [
    "products.describe()"
   ]
  },
  {
   "cell_type": "code",
   "execution_count": 6,
   "metadata": {},
   "outputs": [
    {
     "name": "stdout",
     "output_type": "stream",
     "text": [
      "<class 'pandas.core.frame.DataFrame'>\n",
      "RangeIndex: 2165926 entries, 0 to 2165925\n",
      "Data columns (total 11 columns):\n",
      " #   Column             Dtype  \n",
      "---  ------             -----  \n",
      " 0   asin               object \n",
      " 1   title              object \n",
      " 2   imgUrl             object \n",
      " 3   productURL         object \n",
      " 4   stars              float64\n",
      " 5   reviews            int64  \n",
      " 6   price              float64\n",
      " 7   listPrice          float64\n",
      " 8   categoryName       object \n",
      " 9   isBestSeller       bool   \n",
      " 10  boughtInLastMonth  int64  \n",
      "dtypes: bool(1), float64(3), int64(2), object(5)\n",
      "memory usage: 167.3+ MB\n"
     ]
    }
   ],
   "source": [
    "# feature datatypes can be seen here.\n",
    "# note: features with dtype=object are actually strings according to original dataset creator\n",
    "products.info()"
   ]
  },
  {
   "cell_type": "markdown",
   "metadata": {},
   "source": [
    "#### **Any missing values?**\n",
    "\n",
    "Yes, there are missing values.<br>\n",
    "One thing to note is that the original creator of the dataset stated that for features: **[ stars, reviews, price, listPrice ]**, if a value wasn't present for the product, then they received a 0 for that feature,<br>\n",
    "so first, we need to convert those 0's into Nan's to get the true number of missing values, along with the number of missing values for other features."
   ]
  },
  {
   "cell_type": "code",
   "execution_count": 7,
   "metadata": {},
   "outputs": [
    {
     "name": "stdout",
     "output_type": "stream",
     "text": [
      "Number of 0's:\n",
      "stars: 847514\n",
      "reviews: 846622\n",
      "price: 177910\n",
      "listPrice: 1999277\n"
     ]
    }
   ],
   "source": [
    "# first print out number of 0's for each of the four mentioned features\n",
    "print('Number of 0\\'s:')\n",
    "print('stars:', (products['stars'].values == 0).sum())\n",
    "print('reviews:', (products['reviews'].values == 0).sum())\n",
    "print('price:', (products['price'].values == 0).sum())\n",
    "print('listPrice:', (products['listPrice'].values == 0).sum())"
   ]
  },
  {
   "cell_type": "code",
   "execution_count": 8,
   "metadata": {},
   "outputs": [
    {
     "data": {
      "text/plain": [
       "asin                       0\n",
       "title                      6\n",
       "imgUrl                     0\n",
       "productURL                 0\n",
       "stars                 847514\n",
       "reviews               846622\n",
       "price                 177910\n",
       "listPrice            1999277\n",
       "categoryName               0\n",
       "isBestSeller               0\n",
       "boughtInLastMonth          0\n",
       "dtype: int64"
      ]
     },
     "execution_count": 8,
     "metadata": {},
     "output_type": "execute_result"
    }
   ],
   "source": [
    "# then convert those 0's to Nans\n",
    "products['stars'] = products['stars'].replace(0, np.nan)\n",
    "products['reviews'] = products['reviews'].replace(0, np.nan)\n",
    "products['price'] = products['price'].replace(0, np.nan)\n",
    "products['listPrice'] = products['listPrice'].replace(0, np.nan)\n",
    "products.isna().sum()"
   ]
  },
  {
   "cell_type": "code",
   "execution_count": 9,
   "metadata": {},
   "outputs": [
    {
     "data": {
      "text/plain": [
       "asin                 0\n",
       "title                0\n",
       "imgUrl               0\n",
       "productURL           0\n",
       "stars                0\n",
       "reviews              0\n",
       "price                0\n",
       "listPrice            0\n",
       "categoryName         0\n",
       "isBestSeller         0\n",
       "boughtInLastMonth    0\n",
       "dtype: int64"
      ]
     },
     "execution_count": 9,
     "metadata": {},
     "output_type": "execute_result"
    }
   ],
   "source": [
    "# there are no values with '?'\n",
    "products.isin(['?']).sum()"
   ]
  },
  {
   "cell_type": "markdown",
   "metadata": {},
   "source": [
    "#### **Are data scales different?**\n",
    "\n",
    "If by data scales, it is meant the 4 data measurement scales (Nominal, Ordinal, Interval, Ratio), then yes, we believe so.\n",
    "\n",
    "asin, title, imgUrl, productURL, categoryName would be nominal.<br>\n",
    "stars would be Ratio with a range of [0, 5], and would be continuous since it can any floating-point within that range.<br>\n",
    "reviews, price, listPrice, boughtLastMonth are also Ratio, but have to be at least 0, with reviews and boughtLastMonth being discrete and the others being continuous.<br>\n",
    "isBestSeller would be binary Nominal in the set {False, True}, or {0, 1}"
   ]
  },
  {
   "cell_type": "markdown",
   "metadata": {},
   "source": [
    "#### **Categorical data value counts:**\n",
    "The ones not shown here have unique values (value count = total # of instances)"
   ]
  },
  {
   "cell_type": "code",
   "execution_count": 10,
   "metadata": {},
   "outputs": [
    {
     "data": {
      "text/plain": [
       "categoryName\n",
       "Baby                          25664\n",
       "Luggage  Travel Gear          22990\n",
       "Handmade Home Décor           19150\n",
       "Handmade Kitchen  Dining      19074\n",
       "Perfume  Cologne              18794\n",
       "                              ...  \n",
       "Commerical Door Products        751\n",
       "Smart Home                      732\n",
       "Blu-ray Players  Recorders      644\n",
       "STEM                            280\n",
       "International Food Market       180\n",
       "Name: count, Length: 266, dtype: int64"
      ]
     },
     "execution_count": 10,
     "metadata": {},
     "output_type": "execute_result"
    }
   ],
   "source": [
    "products['categoryName'].value_counts()"
   ]
  },
  {
   "cell_type": "code",
   "execution_count": 11,
   "metadata": {},
   "outputs": [
    {
     "data": {
      "text/plain": [
       "title\n",
       "Handmade pillow cover 16x16 inch Boho kelim pillow Retro Pillow Home Decor Ethnic Pillow cover Natural Dye Kilim Cushion Cover High Quality                                            464\n",
       "Elegant Pillow Lumbar kilim pillow cover 10x20 inch (25x50 cm) Armchair pillow Turkish Kilim pillow cover Chair pillow Oblong Kilim Cushion Cover                                      433\n",
       "Retro kilim pillow cover 12x20 inch (30x50 cm) Armchair Pillow Knitting Pillow Lumbar Kilim pillow Throw Pillow cover Kilim Cushion Cover Decorative pillow                            330\n",
       "Bathroom Towel Rack Space Aluminum Bathroom Shelf Wall-Mounted Bathroom Bathroom Towel Rack Shelf Without Drill Bathroom Towel Rack                                                    317\n",
       "Throw Pillow cover 20x20 inch Retro Pillow Living Room Kilim pillow cover Novelty Home Decor Handmade Kilim cushion cover                                                              302\n",
       "                                                                                                                                                                                      ... \n",
       "9.8x6.6Ft Rectangle Swimming Pool Cover, Waterproof Solar Cover Frame Pool Cover with Rope Ties, Dustproof Easy Set Pool Protector for Ground Inflatable Swimming Pools, Blue            1\n",
       "1 1/4 Inch T Joint Hose Connector Swimming Pool Pump T-Joint Hose                                                                                                                        1\n",
       "Swimming Pool Vacuum Cleaner, Powerful Suction Handheld Automatic Pool Cleaner Built in Rechargeable Battery, Silent Cordless Above Ground Pool Vacuum for Spa, Tubs, Swimming Pool      1\n",
       "Nexleeve 30-Pack Pool Skimmer Socks,Filter Saver Fine Mesh Pool Socks Net for Filter Basket,Ultra fine Mesh Screen Liner for Swimming Pool Basket                                        1\n",
       "YIJU 2Pcs Swing Hangers Sandbag Hook Hardware Swing Sets Rustproof Swing Hook Hanger for Hammock Chair Punching Bag Indoor Outdoor Porch Swing                                           1\n",
       "Name: count, Length: 2065284, dtype: int64"
      ]
     },
     "execution_count": 11,
     "metadata": {},
     "output_type": "execute_result"
    }
   ],
   "source": [
    "products['title'].value_counts()"
   ]
  },
  {
   "cell_type": "code",
   "execution_count": 12,
   "metadata": {},
   "outputs": [
    {
     "data": {
      "text/plain": [
       "imgUrl\n",
       "https://m.media-amazon.com/images/I/01RmK+J4pJL._AC_UL80_.gif     1857\n",
       "https://m.media-amazon.com/images/I/61K931EkvBL._AC_UL320_.jpg     803\n",
       "https://m.media-amazon.com/images/I/51gTSIICIYL._AC_UL320_.jpg     617\n",
       "https://m.media-amazon.com/images/I/71nfE0z0jlL._AC_UL320_.jpg     609\n",
       "https://m.media-amazon.com/images/I/41yRoNIyNwL._AC_UL320_.jpg     428\n",
       "                                                                  ... \n",
       "https://m.media-amazon.com/images/I/41cWUijjGdL._AC_UL320_.jpg       1\n",
       "https://m.media-amazon.com/images/I/61lsl-dPG-L._AC_UL320_.jpg       1\n",
       "https://m.media-amazon.com/images/I/51jOV7qGxoL._AC_UL320_.jpg       1\n",
       "https://m.media-amazon.com/images/I/61OTfjDUJyL._AC_UL320_.jpg       1\n",
       "https://m.media-amazon.com/images/I/51dJ7HtG7LL._AC_UL320_.jpg       1\n",
       "Name: count, Length: 1902544, dtype: int64"
      ]
     },
     "execution_count": 12,
     "metadata": {},
     "output_type": "execute_result"
    }
   ],
   "source": [
    "products['imgUrl'].value_counts()"
   ]
  },
  {
   "cell_type": "code",
   "execution_count": 13,
   "metadata": {},
   "outputs": [
    {
     "data": {
      "text/plain": [
       "isBestSeller\n",
       "False    2158272\n",
       "True        7654\n",
       "Name: count, dtype: int64"
      ]
     },
     "execution_count": 13,
     "metadata": {},
     "output_type": "execute_result"
    }
   ],
   "source": [
    "# target value count\n",
    "products['isBestSeller'].value_counts()"
   ]
  },
  {
   "cell_type": "markdown",
   "metadata": {},
   "source": [
    "## 2.2 Create a Test Set"
   ]
  },
  {
   "cell_type": "markdown",
   "metadata": {},
   "source": [
    "We decided to do the data cleaning and preprocessing on the whole dataset, then split it into training and testing datasets right before training the model."
   ]
  },
  {
   "cell_type": "markdown",
   "metadata": {},
   "source": [
    "# 3. Explore and visualize the data to gain insights.\n"
   ]
  },
  {
   "cell_type": "markdown",
   "metadata": {},
   "source": [
    "### 3.1 Plot a histogram of the data using hist()"
   ]
  },
  {
   "cell_type": "code",
   "execution_count": 14,
   "metadata": {},
   "outputs": [
    {
     "data": {
      "image/png": "[encoded data removed]",
      "text/plain": [
       "<Figure size 2400x1600 with 6 Axes>"
      ]
     },
     "metadata": {},
     "output_type": "display_data"
    }
   ],
   "source": [
    "products.hist(figsize=(24, 16))\n",
    "plt.show()"
   ]
  },
  {
   "cell_type": "markdown",
   "metadata": {},
   "source": [
    "## 3.2 Look for correlations between the features"
   ]
  },
  {
   "cell_type": "code",
   "execution_count": 15,
   "metadata": {},
   "outputs": [
    {
     "data": {
      "text/html": [
       "<div>\n",
       "<style scoped>\n",
       "    .dataframe tbody tr th:only-of-type {\n",
       "        vertical-align: middle;\n",
       "    }\n",
       "\n",
       "    .dataframe tbody tr th {\n",
       "        vertical-align: top;\n",
       "    }\n",
       "\n",
       "    .dataframe thead th {\n",
       "        text-align: right;\n",
       "    }\n",
       "</style>\n",
       "<table border=\"1\" class=\"dataframe\">\n",
       "  <thead>\n",
       "    <tr style=\"text-align: right;\">\n",
       "      <th></th>\n",
       "      <th>stars</th>\n",
       "      <th>reviews</th>\n",
       "      <th>price</th>\n",
       "      <th>listPrice</th>\n",
       "      <th>isBestSeller</th>\n",
       "      <th>boughtInLastMonth</th>\n",
       "    </tr>\n",
       "  </thead>\n",
       "  <tbody>\n",
       "    <tr>\n",
       "      <th>stars</th>\n",
       "      <td>1.000000</td>\n",
       "      <td>0.037046</td>\n",
       "      <td>0.020060</td>\n",
       "      <td>0.029711</td>\n",
       "      <td>0.012604</td>\n",
       "      <td>0.027110</td>\n",
       "    </tr>\n",
       "    <tr>\n",
       "      <th>reviews</th>\n",
       "      <td>0.037046</td>\n",
       "      <td>1.000000</td>\n",
       "      <td>-0.013138</td>\n",
       "      <td>-0.012028</td>\n",
       "      <td>0.082038</td>\n",
       "      <td>0.139956</td>\n",
       "    </tr>\n",
       "    <tr>\n",
       "      <th>price</th>\n",
       "      <td>0.020060</td>\n",
       "      <td>-0.013138</td>\n",
       "      <td>1.000000</td>\n",
       "      <td>0.985641</td>\n",
       "      <td>-0.008980</td>\n",
       "      <td>-0.016619</td>\n",
       "    </tr>\n",
       "    <tr>\n",
       "      <th>listPrice</th>\n",
       "      <td>0.029711</td>\n",
       "      <td>-0.012028</td>\n",
       "      <td>0.985641</td>\n",
       "      <td>1.000000</td>\n",
       "      <td>-0.002681</td>\n",
       "      <td>-0.037228</td>\n",
       "    </tr>\n",
       "    <tr>\n",
       "      <th>isBestSeller</th>\n",
       "      <td>0.012604</td>\n",
       "      <td>0.082038</td>\n",
       "      <td>-0.008980</td>\n",
       "      <td>-0.002681</td>\n",
       "      <td>1.000000</td>\n",
       "      <td>0.207904</td>\n",
       "    </tr>\n",
       "    <tr>\n",
       "      <th>boughtInLastMonth</th>\n",
       "      <td>0.027110</td>\n",
       "      <td>0.139956</td>\n",
       "      <td>-0.016619</td>\n",
       "      <td>-0.037228</td>\n",
       "      <td>0.207904</td>\n",
       "      <td>1.000000</td>\n",
       "    </tr>\n",
       "  </tbody>\n",
       "</table>\n",
       "</div>"
      ],
      "text/plain": [
       "                      stars   reviews     price  listPrice  isBestSeller  \\\n",
       "stars              1.000000  0.037046  0.020060   0.029711      0.012604   \n",
       "reviews            0.037046  1.000000 -0.013138  -0.012028      0.082038   \n",
       "price              0.020060 -0.013138  1.000000   0.985641     -0.008980   \n",
       "listPrice          0.029711 -0.012028  0.985641   1.000000     -0.002681   \n",
       "isBestSeller       0.012604  0.082038 -0.008980  -0.002681      1.000000   \n",
       "boughtInLastMonth  0.027110  0.139956 -0.016619  -0.037228      0.207904   \n",
       "\n",
       "                   boughtInLastMonth  \n",
       "stars                       0.027110  \n",
       "reviews                     0.139956  \n",
       "price                      -0.016619  \n",
       "listPrice                  -0.037228  \n",
       "isBestSeller                0.207904  \n",
       "boughtInLastMonth           1.000000  "
      ]
     },
     "execution_count": 15,
     "metadata": {},
     "output_type": "execute_result"
    }
   ],
   "source": [
    "# check for correlation between features using standard correlation coefficient (Pearson's r).\n",
    "prods_corr = products.corr(numeric_only=True)\n",
    "prods_corr"
   ]
  },
  {
   "cell_type": "markdown",
   "metadata": {},
   "source": [
    "#### Let's look at correlations with regard to our target"
   ]
  },
  {
   "cell_type": "code",
   "execution_count": 16,
   "metadata": {},
   "outputs": [
    {
     "data": {
      "text/plain": [
       "isBestSeller         1.000000\n",
       "boughtInLastMonth    0.207904\n",
       "reviews              0.082038\n",
       "stars                0.012604\n",
       "listPrice           -0.002681\n",
       "price               -0.008980\n",
       "Name: isBestSeller, dtype: float64"
      ]
     },
     "execution_count": 16,
     "metadata": {},
     "output_type": "execute_result"
    }
   ],
   "source": [
    "prods_corr['isBestSeller'].sort_values(ascending=False)"
   ]
  },
  {
   "cell_type": "code",
   "execution_count": 17,
   "metadata": {},
   "outputs": [
    {
     "data": {
      "image/png": "[encoded data removed]",
      "text/plain": [
       "<Figure size 640x480 with 1 Axes>"
      ]
     },
     "metadata": {},
     "output_type": "display_data"
    }
   ],
   "source": [
    "# plot 'boughtInLastMonth' vs. 'isBestSeller'\n",
    "boughtInLastMonth_vs_isBestSeller = sns.lineplot(x='boughtInLastMonth', y='isBestSeller', data=products, errorbar=None)"
   ]
  },
  {
   "cell_type": "code",
   "execution_count": 18,
   "metadata": {},
   "outputs": [
    {
     "data": {
      "text/plain": [
       "Text(0, 0.5, 'isBestSeller')"
      ]
     },
     "execution_count": 18,
     "metadata": {},
     "output_type": "execute_result"
    },
    {
     "data": {
      "image/png": "[encoded data removed]",
      "text/plain": [
       "<Figure size 640x480 with 1 Axes>"
      ]
     },
     "metadata": {},
     "output_type": "display_data"
    }
   ],
   "source": [
    "# create scatterplot of 'boughtInLastMonth' and 'isBestSeller'\n",
    "x = products['boughtInLastMonth']\n",
    "y = products['isBestSeller']\n",
    "\n",
    "# plot points\n",
    "figure, plot = plt.subplots()\n",
    "plot.scatter(x, y, color='b')\n",
    "plt.xlabel('boughtInLastMonth')\n",
    "plt.ylabel('isBestSeller')\n"
   ]
  },
  {
   "cell_type": "code",
   "execution_count": 19,
   "metadata": {},
   "outputs": [
    {
     "data": {
      "image/png": "[encoded data removed]",
      "text/plain": [
       "<Figure size 640x480 with 1 Axes>"
      ]
     },
     "metadata": {},
     "output_type": "display_data"
    }
   ],
   "source": [
    "# plot 'stars' vs. 'isBestSeller'\n",
    "stars_vs_isBestSeller = sns.lineplot(x='stars', y='isBestSeller', data=products, errorbar=None)"
   ]
  },
  {
   "cell_type": "markdown",
   "metadata": {},
   "source": [
    "# 4. Prepare the data for Machine Learning Algorithms"
   ]
  },
  {
   "cell_type": "markdown",
   "metadata": {},
   "source": [
    "#### Data cleaning"
   ]
  },
  {
   "cell_type": "markdown",
   "metadata": {},
   "source": [
    "### 4.1-Check for duplicate rows and remove them if any."
   ]
  },
  {
   "cell_type": "code",
   "execution_count": 19,
   "metadata": {},
   "outputs": [
    {
     "data": {
      "text/plain": [
       "0"
      ]
     },
     "execution_count": 19,
     "metadata": {},
     "output_type": "execute_result"
    }
   ],
   "source": [
    "# no duplicates found\n",
    "products.duplicated().sum()"
   ]
  },
  {
   "cell_type": "markdown",
   "metadata": {},
   "source": [
    "### 4.2-Handle the missing values"
   ]
  },
  {
   "cell_type": "code",
   "execution_count": 20,
   "metadata": {},
   "outputs": [
    {
     "data": {
      "text/plain": [
       "asin                       0\n",
       "title                      6\n",
       "imgUrl                     0\n",
       "productURL                 0\n",
       "stars                 847514\n",
       "reviews               846622\n",
       "price                 177910\n",
       "listPrice            1999277\n",
       "categoryName               0\n",
       "isBestSeller               0\n",
       "boughtInLastMonth          0\n",
       "dtype: int64"
      ]
     },
     "execution_count": 20,
     "metadata": {},
     "output_type": "execute_result"
    }
   ],
   "source": [
    "# number of missing values in each column\n",
    "products.isna().sum()"
   ]
  },
  {
   "cell_type": "code",
   "execution_count": 21,
   "metadata": {},
   "outputs": [],
   "source": [
    "# we decided to drop instances with Nan 'listPrice' because there were just too many instances with Nan 'listPrice' (close to 2M).\n",
    "# 'listPrice' is described by original dataset creator as: \"Original price of the product before any discounts\"\n",
    "# meanwhile 'price' is described as: \"Current price of the product\"\n",
    "products.dropna(subset=['listPrice'], inplace=True)"
   ]
  },
  {
   "cell_type": "code",
   "execution_count": 22,
   "metadata": {},
   "outputs": [
    {
     "data": {
      "text/html": [
       "<div>\n",
       "<style scoped>\n",
       "    .dataframe tbody tr th:only-of-type {\n",
       "        vertical-align: middle;\n",
       "    }\n",
       "\n",
       "    .dataframe tbody tr th {\n",
       "        vertical-align: top;\n",
       "    }\n",
       "\n",
       "    .dataframe thead th {\n",
       "        text-align: right;\n",
       "    }\n",
       "</style>\n",
       "<table border=\"1\" class=\"dataframe\">\n",
       "  <thead>\n",
       "    <tr style=\"text-align: right;\">\n",
       "      <th></th>\n",
       "      <th>asin</th>\n",
       "      <th>title</th>\n",
       "      <th>imgUrl</th>\n",
       "      <th>productURL</th>\n",
       "      <th>stars</th>\n",
       "      <th>reviews</th>\n",
       "      <th>price</th>\n",
       "      <th>listPrice</th>\n",
       "      <th>categoryName</th>\n",
       "      <th>isBestSeller</th>\n",
       "      <th>boughtInLastMonth</th>\n",
       "    </tr>\n",
       "  </thead>\n",
       "  <tbody>\n",
       "    <tr>\n",
       "      <th>2</th>\n",
       "      <td>B087P7538J</td>\n",
       "      <td>YaeCCC 19 Pcs Hole Saw Kit 3/4''(19mm)- 6''(15...</td>\n",
       "      <td>https://m.media-amazon.com/images/I/71P+qLFDFc...</td>\n",
       "      <td>https://www.amazon.ca/dp/B087P7538J</td>\n",
       "      <td>4.0</td>\n",
       "      <td>126.0</td>\n",
       "      <td>25.99</td>\n",
       "      <td>27.99</td>\n",
       "      <td>Industrial  Scientific</td>\n",
       "      <td>False</td>\n",
       "      <td>50</td>\n",
       "    </tr>\n",
       "    <tr>\n",
       "      <th>3</th>\n",
       "      <td>B0822FF7YQ</td>\n",
       "      <td>LLPT Butyl Putty Tape White 1 Inch x 33Ft Tigh...</td>\n",
       "      <td>https://m.media-amazon.com/images/I/61wfWLZRn-...</td>\n",
       "      <td>https://www.amazon.ca/dp/B0822FF7YQ</td>\n",
       "      <td>4.5</td>\n",
       "      <td>1936.0</td>\n",
       "      <td>21.99</td>\n",
       "      <td>30.99</td>\n",
       "      <td>Industrial  Scientific</td>\n",
       "      <td>False</td>\n",
       "      <td>100</td>\n",
       "    </tr>\n",
       "    <tr>\n",
       "      <th>9</th>\n",
       "      <td>B07KMT96S2</td>\n",
       "      <td>Knife Sharpening Stone,400/1000.2000/5000 Doub...</td>\n",
       "      <td>https://m.media-amazon.com/images/I/61uWVjhezJ...</td>\n",
       "      <td>https://www.amazon.ca/dp/B07KMT96S2</td>\n",
       "      <td>4.4</td>\n",
       "      <td>366.0</td>\n",
       "      <td>29.99</td>\n",
       "      <td>35.99</td>\n",
       "      <td>Industrial  Scientific</td>\n",
       "      <td>False</td>\n",
       "      <td>50</td>\n",
       "    </tr>\n",
       "    <tr>\n",
       "      <th>13</th>\n",
       "      <td>B08R8T657H</td>\n",
       "      <td>MIXPOWER Extra Long Torx Bit Socket Set, 3.5-i...</td>\n",
       "      <td>https://m.media-amazon.com/images/I/6154LErNL3...</td>\n",
       "      <td>https://www.amazon.ca/dp/B08R8T657H</td>\n",
       "      <td>4.4</td>\n",
       "      <td>82.0</td>\n",
       "      <td>19.97</td>\n",
       "      <td>21.97</td>\n",
       "      <td>Industrial  Scientific</td>\n",
       "      <td>False</td>\n",
       "      <td>0</td>\n",
       "    </tr>\n",
       "    <tr>\n",
       "      <th>18</th>\n",
       "      <td>B088M3JCP2</td>\n",
       "      <td>Heat Insulation Silicone Repair Mat with Scale...</td>\n",
       "      <td>https://m.media-amazon.com/images/I/61nzkHmJSZ...</td>\n",
       "      <td>https://www.amazon.ca/dp/B088M3JCP2</td>\n",
       "      <td>4.7</td>\n",
       "      <td>142.0</td>\n",
       "      <td>21.99</td>\n",
       "      <td>25.99</td>\n",
       "      <td>Industrial  Scientific</td>\n",
       "      <td>False</td>\n",
       "      <td>50</td>\n",
       "    </tr>\n",
       "    <tr>\n",
       "      <th>...</th>\n",
       "      <td>...</td>\n",
       "      <td>...</td>\n",
       "      <td>...</td>\n",
       "      <td>...</td>\n",
       "      <td>...</td>\n",
       "      <td>...</td>\n",
       "      <td>...</td>\n",
       "      <td>...</td>\n",
       "      <td>...</td>\n",
       "      <td>...</td>\n",
       "      <td>...</td>\n",
       "    </tr>\n",
       "    <tr>\n",
       "      <th>2159330</th>\n",
       "      <td>B08L52267L</td>\n",
       "      <td>ꕤ Spinning Heavy Duty Fun Swing</td>\n",
       "      <td>https://m.media-amazon.com/images/I/41vq-Ut7BE...</td>\n",
       "      <td>https://www.amazon.ca/dp/B08L52267L</td>\n",
       "      <td>3.2</td>\n",
       "      <td>3.0</td>\n",
       "      <td>40.10</td>\n",
       "      <td>54.99</td>\n",
       "      <td>Play Sets  Playground Equipment</td>\n",
       "      <td>False</td>\n",
       "      <td>0</td>\n",
       "    </tr>\n",
       "    <tr>\n",
       "      <th>2159420</th>\n",
       "      <td>B0BV7GPLNJ</td>\n",
       "      <td>Children Steering Wheel, Swing Steering Wheel ...</td>\n",
       "      <td>https://m.media-amazon.com/images/I/61-0kk9U5U...</td>\n",
       "      <td>https://www.amazon.ca/dp/B0BV7GPLNJ</td>\n",
       "      <td>NaN</td>\n",
       "      <td>NaN</td>\n",
       "      <td>21.46</td>\n",
       "      <td>22.84</td>\n",
       "      <td>Play Sets  Playground Equipment</td>\n",
       "      <td>False</td>\n",
       "      <td>0</td>\n",
       "    </tr>\n",
       "    <tr>\n",
       "      <th>2159436</th>\n",
       "      <td>B09WZRDX1G</td>\n",
       "      <td>Gicov Swing Set Replacement Tarp Kids Playgrou...</td>\n",
       "      <td>https://m.media-amazon.com/images/I/51UkZoGa0S...</td>\n",
       "      <td>https://www.amazon.ca/dp/B09WZRDX1G</td>\n",
       "      <td>5.0</td>\n",
       "      <td>2.0</td>\n",
       "      <td>39.85</td>\n",
       "      <td>42.99</td>\n",
       "      <td>Play Sets  Playground Equipment</td>\n",
       "      <td>False</td>\n",
       "      <td>0</td>\n",
       "    </tr>\n",
       "    <tr>\n",
       "      <th>2159454</th>\n",
       "      <td>B08ZCNHY47</td>\n",
       "      <td>Costzon Toddler Swing Set, Outdoor Metal Swing...</td>\n",
       "      <td>https://m.media-amazon.com/images/I/61yIEZJgIW...</td>\n",
       "      <td>https://www.amazon.ca/dp/B08ZCNHY47</td>\n",
       "      <td>4.2</td>\n",
       "      <td>85.0</td>\n",
       "      <td>99.99</td>\n",
       "      <td>109.99</td>\n",
       "      <td>Play Sets  Playground Equipment</td>\n",
       "      <td>False</td>\n",
       "      <td>0</td>\n",
       "    </tr>\n",
       "    <tr>\n",
       "      <th>2159501</th>\n",
       "      <td>B07FN4B192</td>\n",
       "      <td>XDP Recreation Deerfield Swing Set,10 Child Ca...</td>\n",
       "      <td>https://m.media-amazon.com/images/I/51-9p3GUwp...</td>\n",
       "      <td>https://www.amazon.ca/dp/B07FN4B192</td>\n",
       "      <td>4.2</td>\n",
       "      <td>68.0</td>\n",
       "      <td>717.99</td>\n",
       "      <td>799.99</td>\n",
       "      <td>Play Sets  Playground Equipment</td>\n",
       "      <td>False</td>\n",
       "      <td>0</td>\n",
       "    </tr>\n",
       "  </tbody>\n",
       "</table>\n",
       "<p>166649 rows × 11 columns</p>\n",
       "</div>"
      ],
      "text/plain": [
       "               asin                                              title  \\\n",
       "2        B087P7538J  YaeCCC 19 Pcs Hole Saw Kit 3/4''(19mm)- 6''(15...   \n",
       "3        B0822FF7YQ  LLPT Butyl Putty Tape White 1 Inch x 33Ft Tigh...   \n",
       "9        B07KMT96S2  Knife Sharpening Stone,400/1000.2000/5000 Doub...   \n",
       "13       B08R8T657H  MIXPOWER Extra Long Torx Bit Socket Set, 3.5-i...   \n",
       "18       B088M3JCP2  Heat Insulation Silicone Repair Mat with Scale...   \n",
       "...             ...                                                ...   \n",
       "2159330  B08L52267L                    ꕤ Spinning Heavy Duty Fun Swing   \n",
       "2159420  B0BV7GPLNJ  Children Steering Wheel, Swing Steering Wheel ...   \n",
       "2159436  B09WZRDX1G  Gicov Swing Set Replacement Tarp Kids Playgrou...   \n",
       "2159454  B08ZCNHY47  Costzon Toddler Swing Set, Outdoor Metal Swing...   \n",
       "2159501  B07FN4B192  XDP Recreation Deerfield Swing Set,10 Child Ca...   \n",
       "\n",
       "                                                    imgUrl  \\\n",
       "2        https://m.media-amazon.com/images/I/71P+qLFDFc...   \n",
       "3        https://m.media-amazon.com/images/I/61wfWLZRn-...   \n",
       "9        https://m.media-amazon.com/images/I/61uWVjhezJ...   \n",
       "13       https://m.media-amazon.com/images/I/6154LErNL3...   \n",
       "18       https://m.media-amazon.com/images/I/61nzkHmJSZ...   \n",
       "...                                                    ...   \n",
       "2159330  https://m.media-amazon.com/images/I/41vq-Ut7BE...   \n",
       "2159420  https://m.media-amazon.com/images/I/61-0kk9U5U...   \n",
       "2159436  https://m.media-amazon.com/images/I/51UkZoGa0S...   \n",
       "2159454  https://m.media-amazon.com/images/I/61yIEZJgIW...   \n",
       "2159501  https://m.media-amazon.com/images/I/51-9p3GUwp...   \n",
       "\n",
       "                                  productURL  stars  reviews   price  \\\n",
       "2        https://www.amazon.ca/dp/B087P7538J    4.0    126.0   25.99   \n",
       "3        https://www.amazon.ca/dp/B0822FF7YQ    4.5   1936.0   21.99   \n",
       "9        https://www.amazon.ca/dp/B07KMT96S2    4.4    366.0   29.99   \n",
       "13       https://www.amazon.ca/dp/B08R8T657H    4.4     82.0   19.97   \n",
       "18       https://www.amazon.ca/dp/B088M3JCP2    4.7    142.0   21.99   \n",
       "...                                      ...    ...      ...     ...   \n",
       "2159330  https://www.amazon.ca/dp/B08L52267L    3.2      3.0   40.10   \n",
       "2159420  https://www.amazon.ca/dp/B0BV7GPLNJ    NaN      NaN   21.46   \n",
       "2159436  https://www.amazon.ca/dp/B09WZRDX1G    5.0      2.0   39.85   \n",
       "2159454  https://www.amazon.ca/dp/B08ZCNHY47    4.2     85.0   99.99   \n",
       "2159501  https://www.amazon.ca/dp/B07FN4B192    4.2     68.0  717.99   \n",
       "\n",
       "         listPrice                     categoryName  isBestSeller  \\\n",
       "2            27.99           Industrial  Scientific         False   \n",
       "3            30.99           Industrial  Scientific         False   \n",
       "9            35.99           Industrial  Scientific         False   \n",
       "13           21.97           Industrial  Scientific         False   \n",
       "18           25.99           Industrial  Scientific         False   \n",
       "...            ...                              ...           ...   \n",
       "2159330      54.99  Play Sets  Playground Equipment         False   \n",
       "2159420      22.84  Play Sets  Playground Equipment         False   \n",
       "2159436      42.99  Play Sets  Playground Equipment         False   \n",
       "2159454     109.99  Play Sets  Playground Equipment         False   \n",
       "2159501     799.99  Play Sets  Playground Equipment         False   \n",
       "\n",
       "         boughtInLastMonth  \n",
       "2                       50  \n",
       "3                      100  \n",
       "9                       50  \n",
       "13                       0  \n",
       "18                      50  \n",
       "...                    ...  \n",
       "2159330                  0  \n",
       "2159420                  0  \n",
       "2159436                  0  \n",
       "2159454                  0  \n",
       "2159501                  0  \n",
       "\n",
       "[166649 rows x 11 columns]"
      ]
     },
     "execution_count": 22,
     "metadata": {},
     "output_type": "execute_result"
    }
   ],
   "source": [
    "# dataset after deletion\n",
    "products"
   ]
  },
  {
   "cell_type": "code",
   "execution_count": 23,
   "metadata": {},
   "outputs": [
    {
     "data": {
      "text/plain": [
       "asin                    0\n",
       "title                   0\n",
       "imgUrl                  0\n",
       "productURL              0\n",
       "stars                8916\n",
       "reviews              8916\n",
       "price                   0\n",
       "listPrice               0\n",
       "categoryName            0\n",
       "isBestSeller            0\n",
       "boughtInLastMonth       0\n",
       "dtype: int64"
      ]
     },
     "execution_count": 23,
     "metadata": {},
     "output_type": "execute_result"
    }
   ],
   "source": [
    "# Nan count after deletion\n",
    "products.isna().sum()"
   ]
  },
  {
   "cell_type": "code",
   "execution_count": 24,
   "metadata": {},
   "outputs": [
    {
     "data": {
      "text/plain": [
       "isBestSeller         1.000000\n",
       "boughtInLastMonth    0.229124\n",
       "reviews              0.113755\n",
       "stars                0.024501\n",
       "listPrice           -0.002681\n",
       "price               -0.004646\n",
       "Name: isBestSeller, dtype: float64"
      ]
     },
     "execution_count": 24,
     "metadata": {},
     "output_type": "execute_result"
    }
   ],
   "source": [
    "# correlation to target after deletion\n",
    "# correlation didn't change much, deleting those instances didn't have noticable impact on dataset and correlation\n",
    "prods_corr = products.corr(numeric_only=True)\n",
    "prods_corr['isBestSeller'].sort_values(ascending=False)"
   ]
  },
  {
   "cell_type": "code",
   "execution_count": 25,
   "metadata": {},
   "outputs": [],
   "source": [
    "# we decided to drop instances with Nan 'stars' to ensure there were no missing values for any numeric attributes\n",
    "# we didn't feel that filling these missing these values with the mean or median would've made sense as there are different kinds of products in this dataset\n",
    "# and products within a category may have a \n",
    "products.dropna(subset=['stars'], inplace=True)"
   ]
  },
  {
   "cell_type": "code",
   "execution_count": 26,
   "metadata": {},
   "outputs": [
    {
     "data": {
      "text/html": [
       "<div>\n",
       "<style scoped>\n",
       "    .dataframe tbody tr th:only-of-type {\n",
       "        vertical-align: middle;\n",
       "    }\n",
       "\n",
       "    .dataframe tbody tr th {\n",
       "        vertical-align: top;\n",
       "    }\n",
       "\n",
       "    .dataframe thead th {\n",
       "        text-align: right;\n",
       "    }\n",
       "</style>\n",
       "<table border=\"1\" class=\"dataframe\">\n",
       "  <thead>\n",
       "    <tr style=\"text-align: right;\">\n",
       "      <th></th>\n",
       "      <th>asin</th>\n",
       "      <th>title</th>\n",
       "      <th>imgUrl</th>\n",
       "      <th>productURL</th>\n",
       "      <th>stars</th>\n",
       "      <th>reviews</th>\n",
       "      <th>price</th>\n",
       "      <th>listPrice</th>\n",
       "      <th>categoryName</th>\n",
       "      <th>isBestSeller</th>\n",
       "      <th>boughtInLastMonth</th>\n",
       "    </tr>\n",
       "  </thead>\n",
       "  <tbody>\n",
       "    <tr>\n",
       "      <th>2</th>\n",
       "      <td>B087P7538J</td>\n",
       "      <td>YaeCCC 19 Pcs Hole Saw Kit 3/4''(19mm)- 6''(15...</td>\n",
       "      <td>https://m.media-amazon.com/images/I/71P+qLFDFc...</td>\n",
       "      <td>https://www.amazon.ca/dp/B087P7538J</td>\n",
       "      <td>4.0</td>\n",
       "      <td>126.0</td>\n",
       "      <td>25.99</td>\n",
       "      <td>27.99</td>\n",
       "      <td>Industrial  Scientific</td>\n",
       "      <td>False</td>\n",
       "      <td>50</td>\n",
       "    </tr>\n",
       "    <tr>\n",
       "      <th>3</th>\n",
       "      <td>B0822FF7YQ</td>\n",
       "      <td>LLPT Butyl Putty Tape White 1 Inch x 33Ft Tigh...</td>\n",
       "      <td>https://m.media-amazon.com/images/I/61wfWLZRn-...</td>\n",
       "      <td>https://www.amazon.ca/dp/B0822FF7YQ</td>\n",
       "      <td>4.5</td>\n",
       "      <td>1936.0</td>\n",
       "      <td>21.99</td>\n",
       "      <td>30.99</td>\n",
       "      <td>Industrial  Scientific</td>\n",
       "      <td>False</td>\n",
       "      <td>100</td>\n",
       "    </tr>\n",
       "    <tr>\n",
       "      <th>9</th>\n",
       "      <td>B07KMT96S2</td>\n",
       "      <td>Knife Sharpening Stone,400/1000.2000/5000 Doub...</td>\n",
       "      <td>https://m.media-amazon.com/images/I/61uWVjhezJ...</td>\n",
       "      <td>https://www.amazon.ca/dp/B07KMT96S2</td>\n",
       "      <td>4.4</td>\n",
       "      <td>366.0</td>\n",
       "      <td>29.99</td>\n",
       "      <td>35.99</td>\n",
       "      <td>Industrial  Scientific</td>\n",
       "      <td>False</td>\n",
       "      <td>50</td>\n",
       "    </tr>\n",
       "    <tr>\n",
       "      <th>13</th>\n",
       "      <td>B08R8T657H</td>\n",
       "      <td>MIXPOWER Extra Long Torx Bit Socket Set, 3.5-i...</td>\n",
       "      <td>https://m.media-amazon.com/images/I/6154LErNL3...</td>\n",
       "      <td>https://www.amazon.ca/dp/B08R8T657H</td>\n",
       "      <td>4.4</td>\n",
       "      <td>82.0</td>\n",
       "      <td>19.97</td>\n",
       "      <td>21.97</td>\n",
       "      <td>Industrial  Scientific</td>\n",
       "      <td>False</td>\n",
       "      <td>0</td>\n",
       "    </tr>\n",
       "    <tr>\n",
       "      <th>18</th>\n",
       "      <td>B088M3JCP2</td>\n",
       "      <td>Heat Insulation Silicone Repair Mat with Scale...</td>\n",
       "      <td>https://m.media-amazon.com/images/I/61nzkHmJSZ...</td>\n",
       "      <td>https://www.amazon.ca/dp/B088M3JCP2</td>\n",
       "      <td>4.7</td>\n",
       "      <td>142.0</td>\n",
       "      <td>21.99</td>\n",
       "      <td>25.99</td>\n",
       "      <td>Industrial  Scientific</td>\n",
       "      <td>False</td>\n",
       "      <td>50</td>\n",
       "    </tr>\n",
       "    <tr>\n",
       "      <th>...</th>\n",
       "      <td>...</td>\n",
       "      <td>...</td>\n",
       "      <td>...</td>\n",
       "      <td>...</td>\n",
       "      <td>...</td>\n",
       "      <td>...</td>\n",
       "      <td>...</td>\n",
       "      <td>...</td>\n",
       "      <td>...</td>\n",
       "      <td>...</td>\n",
       "      <td>...</td>\n",
       "    </tr>\n",
       "    <tr>\n",
       "      <th>2159314</th>\n",
       "      <td>B0BDRFZZ19</td>\n",
       "      <td>Jolly Jumper The Original with Super Stand &amp; -...</td>\n",
       "      <td>https://m.media-amazon.com/images/I/51JfYdYdxV...</td>\n",
       "      <td>https://www.amazon.ca/dp/B0BDRFZZ19</td>\n",
       "      <td>4.7</td>\n",
       "      <td>3734.0</td>\n",
       "      <td>232.61</td>\n",
       "      <td>264.98</td>\n",
       "      <td>Play Sets  Playground Equipment</td>\n",
       "      <td>False</td>\n",
       "      <td>0</td>\n",
       "    </tr>\n",
       "    <tr>\n",
       "      <th>2159330</th>\n",
       "      <td>B08L52267L</td>\n",
       "      <td>ꕤ Spinning Heavy Duty Fun Swing</td>\n",
       "      <td>https://m.media-amazon.com/images/I/41vq-Ut7BE...</td>\n",
       "      <td>https://www.amazon.ca/dp/B08L52267L</td>\n",
       "      <td>3.2</td>\n",
       "      <td>3.0</td>\n",
       "      <td>40.10</td>\n",
       "      <td>54.99</td>\n",
       "      <td>Play Sets  Playground Equipment</td>\n",
       "      <td>False</td>\n",
       "      <td>0</td>\n",
       "    </tr>\n",
       "    <tr>\n",
       "      <th>2159436</th>\n",
       "      <td>B09WZRDX1G</td>\n",
       "      <td>Gicov Swing Set Replacement Tarp Kids Playgrou...</td>\n",
       "      <td>https://m.media-amazon.com/images/I/51UkZoGa0S...</td>\n",
       "      <td>https://www.amazon.ca/dp/B09WZRDX1G</td>\n",
       "      <td>5.0</td>\n",
       "      <td>2.0</td>\n",
       "      <td>39.85</td>\n",
       "      <td>42.99</td>\n",
       "      <td>Play Sets  Playground Equipment</td>\n",
       "      <td>False</td>\n",
       "      <td>0</td>\n",
       "    </tr>\n",
       "    <tr>\n",
       "      <th>2159454</th>\n",
       "      <td>B08ZCNHY47</td>\n",
       "      <td>Costzon Toddler Swing Set, Outdoor Metal Swing...</td>\n",
       "      <td>https://m.media-amazon.com/images/I/61yIEZJgIW...</td>\n",
       "      <td>https://www.amazon.ca/dp/B08ZCNHY47</td>\n",
       "      <td>4.2</td>\n",
       "      <td>85.0</td>\n",
       "      <td>99.99</td>\n",
       "      <td>109.99</td>\n",
       "      <td>Play Sets  Playground Equipment</td>\n",
       "      <td>False</td>\n",
       "      <td>0</td>\n",
       "    </tr>\n",
       "    <tr>\n",
       "      <th>2159501</th>\n",
       "      <td>B07FN4B192</td>\n",
       "      <td>XDP Recreation Deerfield Swing Set,10 Child Ca...</td>\n",
       "      <td>https://m.media-amazon.com/images/I/51-9p3GUwp...</td>\n",
       "      <td>https://www.amazon.ca/dp/B07FN4B192</td>\n",
       "      <td>4.2</td>\n",
       "      <td>68.0</td>\n",
       "      <td>717.99</td>\n",
       "      <td>799.99</td>\n",
       "      <td>Play Sets  Playground Equipment</td>\n",
       "      <td>False</td>\n",
       "      <td>0</td>\n",
       "    </tr>\n",
       "  </tbody>\n",
       "</table>\n",
       "<p>157733 rows × 11 columns</p>\n",
       "</div>"
      ],
      "text/plain": [
       "               asin                                              title  \\\n",
       "2        B087P7538J  YaeCCC 19 Pcs Hole Saw Kit 3/4''(19mm)- 6''(15...   \n",
       "3        B0822FF7YQ  LLPT Butyl Putty Tape White 1 Inch x 33Ft Tigh...   \n",
       "9        B07KMT96S2  Knife Sharpening Stone,400/1000.2000/5000 Doub...   \n",
       "13       B08R8T657H  MIXPOWER Extra Long Torx Bit Socket Set, 3.5-i...   \n",
       "18       B088M3JCP2  Heat Insulation Silicone Repair Mat with Scale...   \n",
       "...             ...                                                ...   \n",
       "2159314  B0BDRFZZ19  Jolly Jumper The Original with Super Stand & -...   \n",
       "2159330  B08L52267L                    ꕤ Spinning Heavy Duty Fun Swing   \n",
       "2159436  B09WZRDX1G  Gicov Swing Set Replacement Tarp Kids Playgrou...   \n",
       "2159454  B08ZCNHY47  Costzon Toddler Swing Set, Outdoor Metal Swing...   \n",
       "2159501  B07FN4B192  XDP Recreation Deerfield Swing Set,10 Child Ca...   \n",
       "\n",
       "                                                    imgUrl  \\\n",
       "2        https://m.media-amazon.com/images/I/71P+qLFDFc...   \n",
       "3        https://m.media-amazon.com/images/I/61wfWLZRn-...   \n",
       "9        https://m.media-amazon.com/images/I/61uWVjhezJ...   \n",
       "13       https://m.media-amazon.com/images/I/6154LErNL3...   \n",
       "18       https://m.media-amazon.com/images/I/61nzkHmJSZ...   \n",
       "...                                                    ...   \n",
       "2159314  https://m.media-amazon.com/images/I/51JfYdYdxV...   \n",
       "2159330  https://m.media-amazon.com/images/I/41vq-Ut7BE...   \n",
       "2159436  https://m.media-amazon.com/images/I/51UkZoGa0S...   \n",
       "2159454  https://m.media-amazon.com/images/I/61yIEZJgIW...   \n",
       "2159501  https://m.media-amazon.com/images/I/51-9p3GUwp...   \n",
       "\n",
       "                                  productURL  stars  reviews   price  \\\n",
       "2        https://www.amazon.ca/dp/B087P7538J    4.0    126.0   25.99   \n",
       "3        https://www.amazon.ca/dp/B0822FF7YQ    4.5   1936.0   21.99   \n",
       "9        https://www.amazon.ca/dp/B07KMT96S2    4.4    366.0   29.99   \n",
       "13       https://www.amazon.ca/dp/B08R8T657H    4.4     82.0   19.97   \n",
       "18       https://www.amazon.ca/dp/B088M3JCP2    4.7    142.0   21.99   \n",
       "...                                      ...    ...      ...     ...   \n",
       "2159314  https://www.amazon.ca/dp/B0BDRFZZ19    4.7   3734.0  232.61   \n",
       "2159330  https://www.amazon.ca/dp/B08L52267L    3.2      3.0   40.10   \n",
       "2159436  https://www.amazon.ca/dp/B09WZRDX1G    5.0      2.0   39.85   \n",
       "2159454  https://www.amazon.ca/dp/B08ZCNHY47    4.2     85.0   99.99   \n",
       "2159501  https://www.amazon.ca/dp/B07FN4B192    4.2     68.0  717.99   \n",
       "\n",
       "         listPrice                     categoryName  isBestSeller  \\\n",
       "2            27.99           Industrial  Scientific         False   \n",
       "3            30.99           Industrial  Scientific         False   \n",
       "9            35.99           Industrial  Scientific         False   \n",
       "13           21.97           Industrial  Scientific         False   \n",
       "18           25.99           Industrial  Scientific         False   \n",
       "...            ...                              ...           ...   \n",
       "2159314     264.98  Play Sets  Playground Equipment         False   \n",
       "2159330      54.99  Play Sets  Playground Equipment         False   \n",
       "2159436      42.99  Play Sets  Playground Equipment         False   \n",
       "2159454     109.99  Play Sets  Playground Equipment         False   \n",
       "2159501     799.99  Play Sets  Playground Equipment         False   \n",
       "\n",
       "         boughtInLastMonth  \n",
       "2                       50  \n",
       "3                      100  \n",
       "9                       50  \n",
       "13                       0  \n",
       "18                      50  \n",
       "...                    ...  \n",
       "2159314                  0  \n",
       "2159330                  0  \n",
       "2159436                  0  \n",
       "2159454                  0  \n",
       "2159501                  0  \n",
       "\n",
       "[157733 rows x 11 columns]"
      ]
     },
     "execution_count": 26,
     "metadata": {},
     "output_type": "execute_result"
    }
   ],
   "source": [
    "# dataset after Nan 'stars' instance deletions\n",
    "products"
   ]
  },
  {
   "cell_type": "code",
   "execution_count": 27,
   "metadata": {},
   "outputs": [
    {
     "data": {
      "text/plain": [
       "asin                 0\n",
       "title                0\n",
       "imgUrl               0\n",
       "productURL           0\n",
       "stars                0\n",
       "reviews              0\n",
       "price                0\n",
       "listPrice            0\n",
       "categoryName         0\n",
       "isBestSeller         0\n",
       "boughtInLastMonth    0\n",
       "dtype: int64"
      ]
     },
     "execution_count": 27,
     "metadata": {},
     "output_type": "execute_result"
    }
   ],
   "source": [
    "# Nan count after deletion\n",
    "# deleting the instances with null 'stars' also deleted instances with null 'reviews' \n",
    "products.isna().sum()"
   ]
  },
  {
   "cell_type": "code",
   "execution_count": 28,
   "metadata": {},
   "outputs": [
    {
     "data": {
      "text/plain": [
       "isBestSeller         1.000000\n",
       "boughtInLastMonth    0.228810\n",
       "reviews              0.113755\n",
       "stars                0.024501\n",
       "listPrice           -0.003071\n",
       "price               -0.005140\n",
       "Name: isBestSeller, dtype: float64"
      ]
     },
     "execution_count": 28,
     "metadata": {},
     "output_type": "execute_result"
    }
   ],
   "source": [
    "# correlation to target after null 'stars' and 'reviews' deletion\n",
    "# correlation still didn't change much\n",
    "prods_corr = products.corr(numeric_only=True)\n",
    "prods_corr['isBestSeller'].sort_values(ascending=False)"
   ]
  },
  {
   "cell_type": "markdown",
   "metadata": {},
   "source": [
    "### 4.2.1-Handling Text and Categorical Attributes\n",
    "\n",
    "We decided to drop some features:<br>\n",
    "asin - string id for product<br>\n",
    "imgUrl - image url of product<br>\n",
    "productURL - webpage url of product<br>\n",
    "title - title/name of product<br><br>\n",
    "We decided to drop imgUrl and productURL as we felt that they wouldn't help with our task, and we dropped asin since we could just use indices to access/identify a specific instance.<br>\n",
    "We originally didn't want to drop the title feature, but unfortunately, there were just too many unique values, which caused the array from applying the preprocessing pipeline on the dataset<br>\n",
    "to be too large for memory since too many categorical columns had to be encoded then."
   ]
  },
  {
   "cell_type": "code",
   "execution_count": 29,
   "metadata": {},
   "outputs": [],
   "source": [
    "products.drop(labels=['asin'], axis=1, inplace=True)\n",
    "products.drop(labels=['imgUrl'], axis=1, inplace=True)\n",
    "products.drop(labels=['productURL'], axis=1, inplace=True)\n",
    "products.drop(labels=['title'], axis=1, inplace=True)"
   ]
  },
  {
   "cell_type": "code",
   "execution_count": 30,
   "metadata": {},
   "outputs": [
    {
     "data": {
      "text/html": [
       "<div>\n",
       "<style scoped>\n",
       "    .dataframe tbody tr th:only-of-type {\n",
       "        vertical-align: middle;\n",
       "    }\n",
       "\n",
       "    .dataframe tbody tr th {\n",
       "        vertical-align: top;\n",
       "    }\n",
       "\n",
       "    .dataframe thead th {\n",
       "        text-align: right;\n",
       "    }\n",
       "</style>\n",
       "<table border=\"1\" class=\"dataframe\">\n",
       "  <thead>\n",
       "    <tr style=\"text-align: right;\">\n",
       "      <th></th>\n",
       "      <th>stars</th>\n",
       "      <th>reviews</th>\n",
       "      <th>price</th>\n",
       "      <th>listPrice</th>\n",
       "      <th>categoryName</th>\n",
       "      <th>isBestSeller</th>\n",
       "      <th>boughtInLastMonth</th>\n",
       "    </tr>\n",
       "  </thead>\n",
       "  <tbody>\n",
       "    <tr>\n",
       "      <th>2</th>\n",
       "      <td>4.0</td>\n",
       "      <td>126.0</td>\n",
       "      <td>25.99</td>\n",
       "      <td>27.99</td>\n",
       "      <td>Industrial  Scientific</td>\n",
       "      <td>False</td>\n",
       "      <td>50</td>\n",
       "    </tr>\n",
       "    <tr>\n",
       "      <th>3</th>\n",
       "      <td>4.5</td>\n",
       "      <td>1936.0</td>\n",
       "      <td>21.99</td>\n",
       "      <td>30.99</td>\n",
       "      <td>Industrial  Scientific</td>\n",
       "      <td>False</td>\n",
       "      <td>100</td>\n",
       "    </tr>\n",
       "    <tr>\n",
       "      <th>9</th>\n",
       "      <td>4.4</td>\n",
       "      <td>366.0</td>\n",
       "      <td>29.99</td>\n",
       "      <td>35.99</td>\n",
       "      <td>Industrial  Scientific</td>\n",
       "      <td>False</td>\n",
       "      <td>50</td>\n",
       "    </tr>\n",
       "    <tr>\n",
       "      <th>13</th>\n",
       "      <td>4.4</td>\n",
       "      <td>82.0</td>\n",
       "      <td>19.97</td>\n",
       "      <td>21.97</td>\n",
       "      <td>Industrial  Scientific</td>\n",
       "      <td>False</td>\n",
       "      <td>0</td>\n",
       "    </tr>\n",
       "    <tr>\n",
       "      <th>18</th>\n",
       "      <td>4.7</td>\n",
       "      <td>142.0</td>\n",
       "      <td>21.99</td>\n",
       "      <td>25.99</td>\n",
       "      <td>Industrial  Scientific</td>\n",
       "      <td>False</td>\n",
       "      <td>50</td>\n",
       "    </tr>\n",
       "    <tr>\n",
       "      <th>...</th>\n",
       "      <td>...</td>\n",
       "      <td>...</td>\n",
       "      <td>...</td>\n",
       "      <td>...</td>\n",
       "      <td>...</td>\n",
       "      <td>...</td>\n",
       "      <td>...</td>\n",
       "    </tr>\n",
       "    <tr>\n",
       "      <th>2159314</th>\n",
       "      <td>4.7</td>\n",
       "      <td>3734.0</td>\n",
       "      <td>232.61</td>\n",
       "      <td>264.98</td>\n",
       "      <td>Play Sets  Playground Equipment</td>\n",
       "      <td>False</td>\n",
       "      <td>0</td>\n",
       "    </tr>\n",
       "    <tr>\n",
       "      <th>2159330</th>\n",
       "      <td>3.2</td>\n",
       "      <td>3.0</td>\n",
       "      <td>40.10</td>\n",
       "      <td>54.99</td>\n",
       "      <td>Play Sets  Playground Equipment</td>\n",
       "      <td>False</td>\n",
       "      <td>0</td>\n",
       "    </tr>\n",
       "    <tr>\n",
       "      <th>2159436</th>\n",
       "      <td>5.0</td>\n",
       "      <td>2.0</td>\n",
       "      <td>39.85</td>\n",
       "      <td>42.99</td>\n",
       "      <td>Play Sets  Playground Equipment</td>\n",
       "      <td>False</td>\n",
       "      <td>0</td>\n",
       "    </tr>\n",
       "    <tr>\n",
       "      <th>2159454</th>\n",
       "      <td>4.2</td>\n",
       "      <td>85.0</td>\n",
       "      <td>99.99</td>\n",
       "      <td>109.99</td>\n",
       "      <td>Play Sets  Playground Equipment</td>\n",
       "      <td>False</td>\n",
       "      <td>0</td>\n",
       "    </tr>\n",
       "    <tr>\n",
       "      <th>2159501</th>\n",
       "      <td>4.2</td>\n",
       "      <td>68.0</td>\n",
       "      <td>717.99</td>\n",
       "      <td>799.99</td>\n",
       "      <td>Play Sets  Playground Equipment</td>\n",
       "      <td>False</td>\n",
       "      <td>0</td>\n",
       "    </tr>\n",
       "  </tbody>\n",
       "</table>\n",
       "<p>157733 rows × 7 columns</p>\n",
       "</div>"
      ],
      "text/plain": [
       "         stars  reviews   price  listPrice                     categoryName  \\\n",
       "2          4.0    126.0   25.99      27.99           Industrial  Scientific   \n",
       "3          4.5   1936.0   21.99      30.99           Industrial  Scientific   \n",
       "9          4.4    366.0   29.99      35.99           Industrial  Scientific   \n",
       "13         4.4     82.0   19.97      21.97           Industrial  Scientific   \n",
       "18         4.7    142.0   21.99      25.99           Industrial  Scientific   \n",
       "...        ...      ...     ...        ...                              ...   \n",
       "2159314    4.7   3734.0  232.61     264.98  Play Sets  Playground Equipment   \n",
       "2159330    3.2      3.0   40.10      54.99  Play Sets  Playground Equipment   \n",
       "2159436    5.0      2.0   39.85      42.99  Play Sets  Playground Equipment   \n",
       "2159454    4.2     85.0   99.99     109.99  Play Sets  Playground Equipment   \n",
       "2159501    4.2     68.0  717.99     799.99  Play Sets  Playground Equipment   \n",
       "\n",
       "         isBestSeller  boughtInLastMonth  \n",
       "2               False                 50  \n",
       "3               False                100  \n",
       "9               False                 50  \n",
       "13              False                  0  \n",
       "18              False                 50  \n",
       "...               ...                ...  \n",
       "2159314         False                  0  \n",
       "2159330         False                  0  \n",
       "2159436         False                  0  \n",
       "2159454         False                  0  \n",
       "2159501         False                  0  \n",
       "\n",
       "[157733 rows x 7 columns]"
      ]
     },
     "execution_count": 30,
     "metadata": {},
     "output_type": "execute_result"
    }
   ],
   "source": [
    "# after feature deletions\n",
    "products"
   ]
  },
  {
   "cell_type": "code",
   "execution_count": 31,
   "metadata": {},
   "outputs": [
    {
     "name": "stdout",
     "output_type": "stream",
     "text": [
      "<class 'pandas.core.frame.DataFrame'>\n",
      "Index: 157733 entries, 2 to 2159501\n",
      "Data columns (total 7 columns):\n",
      " #   Column             Non-Null Count   Dtype  \n",
      "---  ------             --------------   -----  \n",
      " 0   stars              157733 non-null  float64\n",
      " 1   reviews            157733 non-null  float64\n",
      " 2   price              157733 non-null  float64\n",
      " 3   listPrice          157733 non-null  float64\n",
      " 4   categoryName       157733 non-null  object \n",
      " 5   isBestSeller       157733 non-null  bool   \n",
      " 6   boughtInLastMonth  157733 non-null  int64  \n",
      "dtypes: bool(1), float64(4), int64(1), object(1)\n",
      "memory usage: 8.6+ MB\n"
     ]
    }
   ],
   "source": [
    "# after feature deletions\n",
    "products.info()"
   ]
  },
  {
   "cell_type": "code",
   "execution_count": 32,
   "metadata": {},
   "outputs": [
    {
     "data": {
      "text/plain": [
       "categoryName\n",
       "Electronics                           3952\n",
       "Beauty                                3787\n",
       "Luggage  Travel Gear                  2977\n",
       "Women                                 2821\n",
       "Men                                   2314\n",
       "                                      ... \n",
       "Handmade Beauty  Grooming Products       2\n",
       "Blu-ray Players  Recorders               2\n",
       "Scaffolding Equipment                    2\n",
       "Toy Gardening Equipment                  1\n",
       "Handmade Toys  Games                     1\n",
       "Name: count, Length: 260, dtype: int64"
      ]
     },
     "execution_count": 32,
     "metadata": {},
     "output_type": "execute_result"
    }
   ],
   "source": [
    "products['categoryName'].value_counts()"
   ]
  },
  {
   "cell_type": "code",
   "execution_count": 33,
   "metadata": {},
   "outputs": [
    {
     "data": {
      "text/plain": [
       "isBestSeller\n",
       "False    155579\n",
       "True       2154\n",
       "Name: count, dtype: int64"
      ]
     },
     "execution_count": 33,
     "metadata": {},
     "output_type": "execute_result"
    }
   ],
   "source": [
    "products['isBestSeller'].value_counts()"
   ]
  },
  {
   "cell_type": "markdown",
   "metadata": {},
   "source": [
    "#### We will now create the pipeline which will also scale the features and perform encoding."
   ]
  },
  {
   "cell_type": "markdown",
   "metadata": {},
   "source": [
    "### 4.3. Create a pipeline that will:\n",
    "\n",
    "1. Scale the numerical columns using StandardScaler. Do not scale the target\n",
    "\n",
    "2. Encode the categorical columns using OneHotEncoder\n",
    "\n",
    "Since there are no more missing numerical/categorical column values, we don't need to use SimpleImputer"
   ]
  },
  {
   "cell_type": "code",
   "execution_count": 34,
   "metadata": {},
   "outputs": [],
   "source": [
    "# based on original code by Ruba Al Omari\n",
    "\n",
    "# Create the cat and num columns\n",
    "# Get a list of column names from the 'students' DataFrame that are of numerical data types.\n",
    "# Get a list of column names from the 'students' DataFrame that are not of numerical data types.\n",
    "\n",
    "num_cols = products.select_dtypes(include='number').columns.to_list()\n",
    "cat_cols = products.select_dtypes(exclude='number').columns.to_list()\n",
    "\n",
    "\n",
    "# Exclude the target from categorical columns\n",
    "cat_cols.remove(\"isBestSeller\")\n",
    "\n",
    "# Create pipelines for numeric and categorical columns\n",
    "num_pipeline = make_pipeline(StandardScaler())\n",
    "cat_pipeline = make_pipeline(OneHotEncoder(sparse_output=False))\n",
    "\n",
    "# Use ColumnTransformer to set the estimators and transformations\n",
    "\n",
    "preprocessing = ColumnTransformer([('num', num_pipeline, num_cols), ('cat', cat_pipeline, cat_cols)], remainder='passthrough')"
   ]
  },
  {
   "cell_type": "code",
   "execution_count": 35,
   "metadata": {},
   "outputs": [
    {
     "data": {
      "text/plain": [
       "['stars', 'reviews', 'price', 'listPrice', 'boughtInLastMonth']"
      ]
     },
     "execution_count": 35,
     "metadata": {},
     "output_type": "execute_result"
    }
   ],
   "source": [
    "num_cols"
   ]
  },
  {
   "cell_type": "code",
   "execution_count": 36,
   "metadata": {},
   "outputs": [
    {
     "data": {
      "text/plain": [
       "['categoryName']"
      ]
     },
     "execution_count": 36,
     "metadata": {},
     "output_type": "execute_result"
    }
   ],
   "source": [
    "cat_cols"
   ]
  },
  {
   "cell_type": "code",
   "execution_count": 37,
   "metadata": {},
   "outputs": [
    {
     "data": {
      "text/html": [
       "<style>#sk-container-id-1 {color: black;}#sk-container-id-1 pre{padding: 0;}#sk-container-id-1 div.sk-toggleable {background-color: white;}#sk-container-id-1 label.sk-toggleable__label {cursor: pointer;display: block;width: 100%;margin-bottom: 0;padding: 0.3em;box-sizing: border-box;text-align: center;}#sk-container-id-1 label.sk-toggleable__label-arrow:before {content: \"▸\";float: left;margin-right: 0.25em;color: #696969;}#sk-container-id-1 label.sk-toggleable__label-arrow:hover:before {color: black;}#sk-container-id-1 div.sk-estimator:hover label.sk-toggleable__label-arrow:before {color: black;}#sk-container-id-1 div.sk-toggleable__content {max-height: 0;max-width: 0;overflow: hidden;text-align: left;background-color: #f0f8ff;}#sk-container-id-1 div.sk-toggleable__content pre {margin: 0.2em;color: black;border-radius: 0.25em;background-color: #f0f8ff;}#sk-container-id-1 input.sk-toggleable__control:checked~div.sk-toggleable__content {max-height: 200px;max-width: 100%;overflow: auto;}#sk-container-id-1 input.sk-toggleable__control:checked~label.sk-toggleable__label-arrow:before {content: \"▾\";}#sk-container-id-1 div.sk-estimator input.sk-toggleable__control:checked~label.sk-toggleable__label {background-color: #d4ebff;}#sk-container-id-1 div.sk-label input.sk-toggleable__control:checked~label.sk-toggleable__label {background-color: #d4ebff;}#sk-container-id-1 input.sk-hidden--visually {border: 0;clip: rect(1px 1px 1px 1px);clip: rect(1px, 1px, 1px, 1px);height: 1px;margin: -1px;overflow: hidden;padding: 0;position: absolute;width: 1px;}#sk-container-id-1 div.sk-estimator {font-family: monospace;background-color: #f0f8ff;border: 1px dotted black;border-radius: 0.25em;box-sizing: border-box;margin-bottom: 0.5em;}#sk-container-id-1 div.sk-estimator:hover {background-color: #d4ebff;}#sk-container-id-1 div.sk-parallel-item::after {content: \"\";width: 100%;border-bottom: 1px solid gray;flex-grow: 1;}#sk-container-id-1 div.sk-label:hover label.sk-toggleable__label {background-color: #d4ebff;}#sk-container-id-1 div.sk-serial::before {content: \"\";position: absolute;border-left: 1px solid gray;box-sizing: border-box;top: 0;bottom: 0;left: 50%;z-index: 0;}#sk-container-id-1 div.sk-serial {display: flex;flex-direction: column;align-items: center;background-color: white;padding-right: 0.2em;padding-left: 0.2em;position: relative;}#sk-container-id-1 div.sk-item {position: relative;z-index: 1;}#sk-container-id-1 div.sk-parallel {display: flex;align-items: stretch;justify-content: center;background-color: white;position: relative;}#sk-container-id-1 div.sk-item::before, #sk-container-id-1 div.sk-parallel-item::before {content: \"\";position: absolute;border-left: 1px solid gray;box-sizing: border-box;top: 0;bottom: 0;left: 50%;z-index: -1;}#sk-container-id-1 div.sk-parallel-item {display: flex;flex-direction: column;z-index: 1;position: relative;background-color: white;}#sk-container-id-1 div.sk-parallel-item:first-child::after {align-self: flex-end;width: 50%;}#sk-container-id-1 div.sk-parallel-item:last-child::after {align-self: flex-start;width: 50%;}#sk-container-id-1 div.sk-parallel-item:only-child::after {width: 0;}#sk-container-id-1 div.sk-dashed-wrapped {border: 1px dashed gray;margin: 0 0.4em 0.5em 0.4em;box-sizing: border-box;padding-bottom: 0.4em;background-color: white;}#sk-container-id-1 div.sk-label label {font-family: monospace;font-weight: bold;display: inline-block;line-height: 1.2em;}#sk-container-id-1 div.sk-label-container {text-align: center;}#sk-container-id-1 div.sk-container {/* jupyter's `normalize.less` sets `[hidden] { display: none; }` but bootstrap.min.css set `[hidden] { display: none !important; }` so we also need the `!important` here to be able to override the default hidden behavior on the sphinx rendered scikit-learn.org. See: https://github.com/scikit-learn/scikit-learn/issues/21755 */display: inline-block !important;position: relative;}#sk-container-id-1 div.sk-text-repr-fallback {display: none;}</style><div id=\"sk-container-id-1\" class=\"sk-top-container\"><div class=\"sk-text-repr-fallback\"><pre>ColumnTransformer(remainder=&#x27;passthrough&#x27;,\n",
       "                  transformers=[(&#x27;num&#x27;,\n",
       "                                 Pipeline(steps=[(&#x27;standardscaler&#x27;,\n",
       "                                                  StandardScaler())]),\n",
       "                                 [&#x27;stars&#x27;, &#x27;reviews&#x27;, &#x27;price&#x27;, &#x27;listPrice&#x27;,\n",
       "                                  &#x27;boughtInLastMonth&#x27;]),\n",
       "                                (&#x27;cat&#x27;,\n",
       "                                 Pipeline(steps=[(&#x27;onehotencoder&#x27;,\n",
       "                                                  OneHotEncoder(sparse_output=False))]),\n",
       "                                 [&#x27;categoryName&#x27;])])</pre><b>In a Jupyter environment, please rerun this cell to show the HTML representation or trust the notebook. <br />On GitHub, the HTML representation is unable to render, please try loading this page with nbviewer.org.</b></div><div class=\"sk-container\" hidden><div class=\"sk-item sk-dashed-wrapped\"><div class=\"sk-label-container\"><div class=\"sk-label sk-toggleable\"><input class=\"sk-toggleable__control sk-hidden--visually\" id=\"sk-estimator-id-1\" type=\"checkbox\" ><label for=\"sk-estimator-id-1\" class=\"sk-toggleable__label sk-toggleable__label-arrow\">ColumnTransformer</label><div class=\"sk-toggleable__content\"><pre>ColumnTransformer(remainder=&#x27;passthrough&#x27;,\n",
       "                  transformers=[(&#x27;num&#x27;,\n",
       "                                 Pipeline(steps=[(&#x27;standardscaler&#x27;,\n",
       "                                                  StandardScaler())]),\n",
       "                                 [&#x27;stars&#x27;, &#x27;reviews&#x27;, &#x27;price&#x27;, &#x27;listPrice&#x27;,\n",
       "                                  &#x27;boughtInLastMonth&#x27;]),\n",
       "                                (&#x27;cat&#x27;,\n",
       "                                 Pipeline(steps=[(&#x27;onehotencoder&#x27;,\n",
       "                                                  OneHotEncoder(sparse_output=False))]),\n",
       "                                 [&#x27;categoryName&#x27;])])</pre></div></div></div><div class=\"sk-parallel\"><div class=\"sk-parallel-item\"><div class=\"sk-item\"><div class=\"sk-label-container\"><div class=\"sk-label sk-toggleable\"><input class=\"sk-toggleable__control sk-hidden--visually\" id=\"sk-estimator-id-2\" type=\"checkbox\" ><label for=\"sk-estimator-id-2\" class=\"sk-toggleable__label sk-toggleable__label-arrow\">num</label><div class=\"sk-toggleable__content\"><pre>[&#x27;stars&#x27;, &#x27;reviews&#x27;, &#x27;price&#x27;, &#x27;listPrice&#x27;, &#x27;boughtInLastMonth&#x27;]</pre></div></div></div><div class=\"sk-serial\"><div class=\"sk-item\"><div class=\"sk-serial\"><div class=\"sk-item\"><div class=\"sk-estimator sk-toggleable\"><input class=\"sk-toggleable__control sk-hidden--visually\" id=\"sk-estimator-id-3\" type=\"checkbox\" ><label for=\"sk-estimator-id-3\" class=\"sk-toggleable__label sk-toggleable__label-arrow\">StandardScaler</label><div class=\"sk-toggleable__content\"><pre>StandardScaler()</pre></div></div></div></div></div></div></div></div><div class=\"sk-parallel-item\"><div class=\"sk-item\"><div class=\"sk-label-container\"><div class=\"sk-label sk-toggleable\"><input class=\"sk-toggleable__control sk-hidden--visually\" id=\"sk-estimator-id-4\" type=\"checkbox\" ><label for=\"sk-estimator-id-4\" class=\"sk-toggleable__label sk-toggleable__label-arrow\">cat</label><div class=\"sk-toggleable__content\"><pre>[&#x27;categoryName&#x27;]</pre></div></div></div><div class=\"sk-serial\"><div class=\"sk-item\"><div class=\"sk-serial\"><div class=\"sk-item\"><div class=\"sk-estimator sk-toggleable\"><input class=\"sk-toggleable__control sk-hidden--visually\" id=\"sk-estimator-id-5\" type=\"checkbox\" ><label for=\"sk-estimator-id-5\" class=\"sk-toggleable__label sk-toggleable__label-arrow\">OneHotEncoder</label><div class=\"sk-toggleable__content\"><pre>OneHotEncoder(sparse_output=False)</pre></div></div></div></div></div></div></div></div><div class=\"sk-parallel-item\"><div class=\"sk-item\"><div class=\"sk-label-container\"><div class=\"sk-label sk-toggleable\"><input class=\"sk-toggleable__control sk-hidden--visually\" id=\"sk-estimator-id-6\" type=\"checkbox\" ><label for=\"sk-estimator-id-6\" class=\"sk-toggleable__label sk-toggleable__label-arrow\">remainder</label><div class=\"sk-toggleable__content\"><pre></pre></div></div></div><div class=\"sk-serial\"><div class=\"sk-item\"><div class=\"sk-estimator sk-toggleable\"><input class=\"sk-toggleable__control sk-hidden--visually\" id=\"sk-estimator-id-7\" type=\"checkbox\" ><label for=\"sk-estimator-id-7\" class=\"sk-toggleable__label sk-toggleable__label-arrow\">passthrough</label><div class=\"sk-toggleable__content\"><pre>passthrough</pre></div></div></div></div></div></div></div></div></div></div>"
      ],
      "text/plain": [
       "ColumnTransformer(remainder='passthrough',\n",
       "                  transformers=[('num',\n",
       "                                 Pipeline(steps=[('standardscaler',\n",
       "                                                  StandardScaler())]),\n",
       "                                 ['stars', 'reviews', 'price', 'listPrice',\n",
       "                                  'boughtInLastMonth']),\n",
       "                                ('cat',\n",
       "                                 Pipeline(steps=[('onehotencoder',\n",
       "                                                  OneHotEncoder(sparse_output=False))]),\n",
       "                                 ['categoryName'])])"
      ]
     },
     "execution_count": 37,
     "metadata": {},
     "output_type": "execute_result"
    }
   ],
   "source": [
    "# Show the pipeline\n",
    "preprocessing"
   ]
  },
  {
   "cell_type": "code",
   "execution_count": 38,
   "metadata": {},
   "outputs": [
    {
     "data": {
      "text/html": [
       "<div>\n",
       "<style scoped>\n",
       "    .dataframe tbody tr th:only-of-type {\n",
       "        vertical-align: middle;\n",
       "    }\n",
       "\n",
       "    .dataframe tbody tr th {\n",
       "        vertical-align: top;\n",
       "    }\n",
       "\n",
       "    .dataframe thead th {\n",
       "        text-align: right;\n",
       "    }\n",
       "</style>\n",
       "<table border=\"1\" class=\"dataframe\">\n",
       "  <thead>\n",
       "    <tr style=\"text-align: right;\">\n",
       "      <th></th>\n",
       "      <th>num__stars</th>\n",
       "      <th>num__reviews</th>\n",
       "      <th>num__price</th>\n",
       "      <th>num__listPrice</th>\n",
       "      <th>num__boughtInLastMonth</th>\n",
       "      <th>cat__categoryName_3D Printing  Scanning</th>\n",
       "      <th>cat__categoryName_Abrasive  Finishing Products</th>\n",
       "      <th>cat__categoryName_Action Figures, Maquettes  Busts</th>\n",
       "      <th>cat__categoryName_Action Sports</th>\n",
       "      <th>cat__categoryName_Air Freshener Supplies</th>\n",
       "      <th>...</th>\n",
       "      <th>cat__categoryName_Window Hardware</th>\n",
       "      <th>cat__categoryName_Women</th>\n",
       "      <th>cat__categoryName_Women's Accessories</th>\n",
       "      <th>cat__categoryName_Women's Clothing</th>\n",
       "      <th>cat__categoryName_Women's Handbags</th>\n",
       "      <th>cat__categoryName_Women's Health  Family Planning</th>\n",
       "      <th>cat__categoryName_Women's Jewelry</th>\n",
       "      <th>cat__categoryName_Women's Shoes</th>\n",
       "      <th>cat__categoryName_Women's Watches</th>\n",
       "      <th>remainder__isBestSeller</th>\n",
       "    </tr>\n",
       "  </thead>\n",
       "  <tbody>\n",
       "    <tr>\n",
       "      <th>0</th>\n",
       "      <td>-0.542589</td>\n",
       "      <td>-0.177991</td>\n",
       "      <td>-0.322384</td>\n",
       "      <td>-0.363368</td>\n",
       "      <td>0.072706</td>\n",
       "      <td>0.0</td>\n",
       "      <td>0.0</td>\n",
       "      <td>0.0</td>\n",
       "      <td>0.0</td>\n",
       "      <td>0.0</td>\n",
       "      <td>...</td>\n",
       "      <td>0.0</td>\n",
       "      <td>0.0</td>\n",
       "      <td>0.0</td>\n",
       "      <td>0.0</td>\n",
       "      <td>0.0</td>\n",
       "      <td>0.0</td>\n",
       "      <td>0.0</td>\n",
       "      <td>0.0</td>\n",
       "      <td>0.0</td>\n",
       "      <td>0.0</td>\n",
       "    </tr>\n",
       "    <tr>\n",
       "      <th>1</th>\n",
       "      <td>0.395711</td>\n",
       "      <td>0.036829</td>\n",
       "      <td>-0.374442</td>\n",
       "      <td>-0.330172</td>\n",
       "      <td>0.298818</td>\n",
       "      <td>0.0</td>\n",
       "      <td>0.0</td>\n",
       "      <td>0.0</td>\n",
       "      <td>0.0</td>\n",
       "      <td>0.0</td>\n",
       "      <td>...</td>\n",
       "      <td>0.0</td>\n",
       "      <td>0.0</td>\n",
       "      <td>0.0</td>\n",
       "      <td>0.0</td>\n",
       "      <td>0.0</td>\n",
       "      <td>0.0</td>\n",
       "      <td>0.0</td>\n",
       "      <td>0.0</td>\n",
       "      <td>0.0</td>\n",
       "      <td>0.0</td>\n",
       "    </tr>\n",
       "    <tr>\n",
       "      <th>2</th>\n",
       "      <td>0.208051</td>\n",
       "      <td>-0.149506</td>\n",
       "      <td>-0.270325</td>\n",
       "      <td>-0.274846</td>\n",
       "      <td>0.072706</td>\n",
       "      <td>0.0</td>\n",
       "      <td>0.0</td>\n",
       "      <td>0.0</td>\n",
       "      <td>0.0</td>\n",
       "      <td>0.0</td>\n",
       "      <td>...</td>\n",
       "      <td>0.0</td>\n",
       "      <td>0.0</td>\n",
       "      <td>0.0</td>\n",
       "      <td>0.0</td>\n",
       "      <td>0.0</td>\n",
       "      <td>0.0</td>\n",
       "      <td>0.0</td>\n",
       "      <td>0.0</td>\n",
       "      <td>0.0</td>\n",
       "      <td>0.0</td>\n",
       "    </tr>\n",
       "    <tr>\n",
       "      <th>3</th>\n",
       "      <td>0.208051</td>\n",
       "      <td>-0.183213</td>\n",
       "      <td>-0.400731</td>\n",
       "      <td>-0.429981</td>\n",
       "      <td>-0.153406</td>\n",
       "      <td>0.0</td>\n",
       "      <td>0.0</td>\n",
       "      <td>0.0</td>\n",
       "      <td>0.0</td>\n",
       "      <td>0.0</td>\n",
       "      <td>...</td>\n",
       "      <td>0.0</td>\n",
       "      <td>0.0</td>\n",
       "      <td>0.0</td>\n",
       "      <td>0.0</td>\n",
       "      <td>0.0</td>\n",
       "      <td>0.0</td>\n",
       "      <td>0.0</td>\n",
       "      <td>0.0</td>\n",
       "      <td>0.0</td>\n",
       "      <td>0.0</td>\n",
       "    </tr>\n",
       "    <tr>\n",
       "      <th>4</th>\n",
       "      <td>0.771030</td>\n",
       "      <td>-0.176092</td>\n",
       "      <td>-0.374442</td>\n",
       "      <td>-0.385498</td>\n",
       "      <td>0.072706</td>\n",
       "      <td>0.0</td>\n",
       "      <td>0.0</td>\n",
       "      <td>0.0</td>\n",
       "      <td>0.0</td>\n",
       "      <td>0.0</td>\n",
       "      <td>...</td>\n",
       "      <td>0.0</td>\n",
       "      <td>0.0</td>\n",
       "      <td>0.0</td>\n",
       "      <td>0.0</td>\n",
       "      <td>0.0</td>\n",
       "      <td>0.0</td>\n",
       "      <td>0.0</td>\n",
       "      <td>0.0</td>\n",
       "      <td>0.0</td>\n",
       "      <td>0.0</td>\n",
       "    </tr>\n",
       "    <tr>\n",
       "      <th>...</th>\n",
       "      <td>...</td>\n",
       "      <td>...</td>\n",
       "      <td>...</td>\n",
       "      <td>...</td>\n",
       "      <td>...</td>\n",
       "      <td>...</td>\n",
       "      <td>...</td>\n",
       "      <td>...</td>\n",
       "      <td>...</td>\n",
       "      <td>...</td>\n",
       "      <td>...</td>\n",
       "      <td>...</td>\n",
       "      <td>...</td>\n",
       "      <td>...</td>\n",
       "      <td>...</td>\n",
       "      <td>...</td>\n",
       "      <td>...</td>\n",
       "      <td>...</td>\n",
       "      <td>...</td>\n",
       "      <td>...</td>\n",
       "      <td>...</td>\n",
       "    </tr>\n",
       "    <tr>\n",
       "      <th>157728</th>\n",
       "      <td>0.771030</td>\n",
       "      <td>0.250224</td>\n",
       "      <td>2.366690</td>\n",
       "      <td>2.258984</td>\n",
       "      <td>-0.153406</td>\n",
       "      <td>0.0</td>\n",
       "      <td>0.0</td>\n",
       "      <td>0.0</td>\n",
       "      <td>0.0</td>\n",
       "      <td>0.0</td>\n",
       "      <td>...</td>\n",
       "      <td>0.0</td>\n",
       "      <td>0.0</td>\n",
       "      <td>0.0</td>\n",
       "      <td>0.0</td>\n",
       "      <td>0.0</td>\n",
       "      <td>0.0</td>\n",
       "      <td>0.0</td>\n",
       "      <td>0.0</td>\n",
       "      <td>0.0</td>\n",
       "      <td>0.0</td>\n",
       "    </tr>\n",
       "    <tr>\n",
       "      <th>157729</th>\n",
       "      <td>-2.043868</td>\n",
       "      <td>-0.192589</td>\n",
       "      <td>-0.138748</td>\n",
       "      <td>-0.064606</td>\n",
       "      <td>-0.153406</td>\n",
       "      <td>0.0</td>\n",
       "      <td>0.0</td>\n",
       "      <td>0.0</td>\n",
       "      <td>0.0</td>\n",
       "      <td>0.0</td>\n",
       "      <td>...</td>\n",
       "      <td>0.0</td>\n",
       "      <td>0.0</td>\n",
       "      <td>0.0</td>\n",
       "      <td>0.0</td>\n",
       "      <td>0.0</td>\n",
       "      <td>0.0</td>\n",
       "      <td>0.0</td>\n",
       "      <td>0.0</td>\n",
       "      <td>0.0</td>\n",
       "      <td>0.0</td>\n",
       "    </tr>\n",
       "    <tr>\n",
       "      <th>157730</th>\n",
       "      <td>1.334010</td>\n",
       "      <td>-0.192708</td>\n",
       "      <td>-0.142001</td>\n",
       "      <td>-0.197389</td>\n",
       "      <td>-0.153406</td>\n",
       "      <td>0.0</td>\n",
       "      <td>0.0</td>\n",
       "      <td>0.0</td>\n",
       "      <td>0.0</td>\n",
       "      <td>0.0</td>\n",
       "      <td>...</td>\n",
       "      <td>0.0</td>\n",
       "      <td>0.0</td>\n",
       "      <td>0.0</td>\n",
       "      <td>0.0</td>\n",
       "      <td>0.0</td>\n",
       "      <td>0.0</td>\n",
       "      <td>0.0</td>\n",
       "      <td>0.0</td>\n",
       "      <td>0.0</td>\n",
       "      <td>0.0</td>\n",
       "    </tr>\n",
       "    <tr>\n",
       "      <th>157731</th>\n",
       "      <td>-0.167269</td>\n",
       "      <td>-0.182857</td>\n",
       "      <td>0.640696</td>\n",
       "      <td>0.543982</td>\n",
       "      <td>-0.153406</td>\n",
       "      <td>0.0</td>\n",
       "      <td>0.0</td>\n",
       "      <td>0.0</td>\n",
       "      <td>0.0</td>\n",
       "      <td>0.0</td>\n",
       "      <td>...</td>\n",
       "      <td>0.0</td>\n",
       "      <td>0.0</td>\n",
       "      <td>0.0</td>\n",
       "      <td>0.0</td>\n",
       "      <td>0.0</td>\n",
       "      <td>0.0</td>\n",
       "      <td>0.0</td>\n",
       "      <td>0.0</td>\n",
       "      <td>0.0</td>\n",
       "      <td>0.0</td>\n",
       "    </tr>\n",
       "    <tr>\n",
       "      <th>157732</th>\n",
       "      <td>-0.167269</td>\n",
       "      <td>-0.184875</td>\n",
       "      <td>8.683710</td>\n",
       "      <td>8.178998</td>\n",
       "      <td>-0.153406</td>\n",
       "      <td>0.0</td>\n",
       "      <td>0.0</td>\n",
       "      <td>0.0</td>\n",
       "      <td>0.0</td>\n",
       "      <td>0.0</td>\n",
       "      <td>...</td>\n",
       "      <td>0.0</td>\n",
       "      <td>0.0</td>\n",
       "      <td>0.0</td>\n",
       "      <td>0.0</td>\n",
       "      <td>0.0</td>\n",
       "      <td>0.0</td>\n",
       "      <td>0.0</td>\n",
       "      <td>0.0</td>\n",
       "      <td>0.0</td>\n",
       "      <td>0.0</td>\n",
       "    </tr>\n",
       "  </tbody>\n",
       "</table>\n",
       "<p>157733 rows × 266 columns</p>\n",
       "</div>"
      ],
      "text/plain": [
       "        num__stars  num__reviews  num__price  num__listPrice  \\\n",
       "0        -0.542589     -0.177991   -0.322384       -0.363368   \n",
       "1         0.395711      0.036829   -0.374442       -0.330172   \n",
       "2         0.208051     -0.149506   -0.270325       -0.274846   \n",
       "3         0.208051     -0.183213   -0.400731       -0.429981   \n",
       "4         0.771030     -0.176092   -0.374442       -0.385498   \n",
       "...            ...           ...         ...             ...   \n",
       "157728    0.771030      0.250224    2.366690        2.258984   \n",
       "157729   -2.043868     -0.192589   -0.138748       -0.064606   \n",
       "157730    1.334010     -0.192708   -0.142001       -0.197389   \n",
       "157731   -0.167269     -0.182857    0.640696        0.543982   \n",
       "157732   -0.167269     -0.184875    8.683710        8.178998   \n",
       "\n",
       "        num__boughtInLastMonth  cat__categoryName_3D Printing  Scanning  \\\n",
       "0                     0.072706                                      0.0   \n",
       "1                     0.298818                                      0.0   \n",
       "2                     0.072706                                      0.0   \n",
       "3                    -0.153406                                      0.0   \n",
       "4                     0.072706                                      0.0   \n",
       "...                        ...                                      ...   \n",
       "157728               -0.153406                                      0.0   \n",
       "157729               -0.153406                                      0.0   \n",
       "157730               -0.153406                                      0.0   \n",
       "157731               -0.153406                                      0.0   \n",
       "157732               -0.153406                                      0.0   \n",
       "\n",
       "        cat__categoryName_Abrasive  Finishing Products  \\\n",
       "0                                                  0.0   \n",
       "1                                                  0.0   \n",
       "2                                                  0.0   \n",
       "3                                                  0.0   \n",
       "4                                                  0.0   \n",
       "...                                                ...   \n",
       "157728                                             0.0   \n",
       "157729                                             0.0   \n",
       "157730                                             0.0   \n",
       "157731                                             0.0   \n",
       "157732                                             0.0   \n",
       "\n",
       "        cat__categoryName_Action Figures, Maquettes  Busts  \\\n",
       "0                                                     0.0    \n",
       "1                                                     0.0    \n",
       "2                                                     0.0    \n",
       "3                                                     0.0    \n",
       "4                                                     0.0    \n",
       "...                                                   ...    \n",
       "157728                                                0.0    \n",
       "157729                                                0.0    \n",
       "157730                                                0.0    \n",
       "157731                                                0.0    \n",
       "157732                                                0.0    \n",
       "\n",
       "        cat__categoryName_Action Sports  \\\n",
       "0                                   0.0   \n",
       "1                                   0.0   \n",
       "2                                   0.0   \n",
       "3                                   0.0   \n",
       "4                                   0.0   \n",
       "...                                 ...   \n",
       "157728                              0.0   \n",
       "157729                              0.0   \n",
       "157730                              0.0   \n",
       "157731                              0.0   \n",
       "157732                              0.0   \n",
       "\n",
       "        cat__categoryName_Air Freshener Supplies  ...  \\\n",
       "0                                            0.0  ...   \n",
       "1                                            0.0  ...   \n",
       "2                                            0.0  ...   \n",
       "3                                            0.0  ...   \n",
       "4                                            0.0  ...   \n",
       "...                                          ...  ...   \n",
       "157728                                       0.0  ...   \n",
       "157729                                       0.0  ...   \n",
       "157730                                       0.0  ...   \n",
       "157731                                       0.0  ...   \n",
       "157732                                       0.0  ...   \n",
       "\n",
       "        cat__categoryName_Window Hardware  cat__categoryName_Women  \\\n",
       "0                                     0.0                      0.0   \n",
       "1                                     0.0                      0.0   \n",
       "2                                     0.0                      0.0   \n",
       "3                                     0.0                      0.0   \n",
       "4                                     0.0                      0.0   \n",
       "...                                   ...                      ...   \n",
       "157728                                0.0                      0.0   \n",
       "157729                                0.0                      0.0   \n",
       "157730                                0.0                      0.0   \n",
       "157731                                0.0                      0.0   \n",
       "157732                                0.0                      0.0   \n",
       "\n",
       "        cat__categoryName_Women's Accessories  \\\n",
       "0                                         0.0   \n",
       "1                                         0.0   \n",
       "2                                         0.0   \n",
       "3                                         0.0   \n",
       "4                                         0.0   \n",
       "...                                       ...   \n",
       "157728                                    0.0   \n",
       "157729                                    0.0   \n",
       "157730                                    0.0   \n",
       "157731                                    0.0   \n",
       "157732                                    0.0   \n",
       "\n",
       "        cat__categoryName_Women's Clothing  \\\n",
       "0                                      0.0   \n",
       "1                                      0.0   \n",
       "2                                      0.0   \n",
       "3                                      0.0   \n",
       "4                                      0.0   \n",
       "...                                    ...   \n",
       "157728                                 0.0   \n",
       "157729                                 0.0   \n",
       "157730                                 0.0   \n",
       "157731                                 0.0   \n",
       "157732                                 0.0   \n",
       "\n",
       "        cat__categoryName_Women's Handbags  \\\n",
       "0                                      0.0   \n",
       "1                                      0.0   \n",
       "2                                      0.0   \n",
       "3                                      0.0   \n",
       "4                                      0.0   \n",
       "...                                    ...   \n",
       "157728                                 0.0   \n",
       "157729                                 0.0   \n",
       "157730                                 0.0   \n",
       "157731                                 0.0   \n",
       "157732                                 0.0   \n",
       "\n",
       "        cat__categoryName_Women's Health  Family Planning  \\\n",
       "0                                                     0.0   \n",
       "1                                                     0.0   \n",
       "2                                                     0.0   \n",
       "3                                                     0.0   \n",
       "4                                                     0.0   \n",
       "...                                                   ...   \n",
       "157728                                                0.0   \n",
       "157729                                                0.0   \n",
       "157730                                                0.0   \n",
       "157731                                                0.0   \n",
       "157732                                                0.0   \n",
       "\n",
       "        cat__categoryName_Women's Jewelry  cat__categoryName_Women's Shoes  \\\n",
       "0                                     0.0                              0.0   \n",
       "1                                     0.0                              0.0   \n",
       "2                                     0.0                              0.0   \n",
       "3                                     0.0                              0.0   \n",
       "4                                     0.0                              0.0   \n",
       "...                                   ...                              ...   \n",
       "157728                                0.0                              0.0   \n",
       "157729                                0.0                              0.0   \n",
       "157730                                0.0                              0.0   \n",
       "157731                                0.0                              0.0   \n",
       "157732                                0.0                              0.0   \n",
       "\n",
       "        cat__categoryName_Women's Watches  remainder__isBestSeller  \n",
       "0                                     0.0                      0.0  \n",
       "1                                     0.0                      0.0  \n",
       "2                                     0.0                      0.0  \n",
       "3                                     0.0                      0.0  \n",
       "4                                     0.0                      0.0  \n",
       "...                                   ...                      ...  \n",
       "157728                                0.0                      0.0  \n",
       "157729                                0.0                      0.0  \n",
       "157730                                0.0                      0.0  \n",
       "157731                                0.0                      0.0  \n",
       "157732                                0.0                      0.0  \n",
       "\n",
       "[157733 rows x 266 columns]"
      ]
     },
     "execution_count": 38,
     "metadata": {},
     "output_type": "execute_result"
    }
   ],
   "source": [
    "# based on original code by Ruba Al Omari\n",
    "\n",
    "# Apply the preprocessing pipeline on the dataset\n",
    "prods_prepared = preprocessing.fit_transform(products)\n",
    "\n",
    "# Scikit-learn strips the column headers, so just add them back on afterward.\n",
    "prods_feats = preprocessing.get_feature_names_out()\n",
    "prods_prepared = pd.DataFrame(data=prods_prepared, columns=prods_feats)\n",
    "\n",
    "prods_prepared"
   ]
  },
  {
   "cell_type": "code",
   "execution_count": 39,
   "metadata": {},
   "outputs": [
    {
     "data": {
      "text/plain": [
       "Index(['num__stars', 'num__reviews', 'num__price', 'num__listPrice',\n",
       "       'num__boughtInLastMonth', 'cat__categoryName_3D Printing  Scanning',\n",
       "       'cat__categoryName_Abrasive  Finishing Products',\n",
       "       'cat__categoryName_Action Figures, Maquettes  Busts',\n",
       "       'cat__categoryName_Action Sports',\n",
       "       'cat__categoryName_Air Freshener Supplies',\n",
       "       ...\n",
       "       'cat__categoryName_Window Hardware', 'cat__categoryName_Women',\n",
       "       'cat__categoryName_Women's Accessories',\n",
       "       'cat__categoryName_Women's Clothing',\n",
       "       'cat__categoryName_Women's Handbags',\n",
       "       'cat__categoryName_Women's Health  Family Planning',\n",
       "       'cat__categoryName_Women's Jewelry', 'cat__categoryName_Women's Shoes',\n",
       "       'cat__categoryName_Women's Watches', 'remainder__isBestSeller'],\n",
       "      dtype='object', length=266)"
      ]
     },
     "execution_count": 39,
     "metadata": {},
     "output_type": "execute_result"
    }
   ],
   "source": [
    "prods_prepared.columns"
   ]
  },
  {
   "cell_type": "markdown",
   "metadata": {},
   "source": [
    "# 5. Select and train a model"
   ]
  },
  {
   "cell_type": "markdown",
   "metadata": {},
   "source": [
    "## 5.1 Split the dataset into a training dataset (80%) and testing dataset."
   ]
  },
  {
   "cell_type": "code",
   "execution_count": 40,
   "metadata": {},
   "outputs": [
    {
     "name": "stdout",
     "output_type": "stream",
     "text": [
      "(126186, 265) (126186,) (31547, 265) (31547,)\n"
     ]
    }
   ],
   "source": [
    "# based on original code by Ruba Al Omari\n",
    "\n",
    "x = prods_prepared.drop(['remainder__isBestSeller'], axis=1)\n",
    "y = prods_prepared['remainder__isBestSeller']\n",
    "\n",
    "x_train, x_test, y_train, y_test = train_test_split(x, y, test_size=0.2, random_state=42)\n",
    "print(x_train.shape, y_train.shape, x_test.shape, y_test.shape)"
   ]
  },
  {
   "cell_type": "markdown",
   "metadata": {},
   "source": [
    "### 5.2 Train a SVM model (SVC) to predict whether product is best seller or not"
   ]
  },
  {
   "cell_type": "code",
   "execution_count": 41,
   "metadata": {},
   "outputs": [
    {
     "data": {
      "text/html": [
       "<style>#sk-container-id-2 {color: black;}#sk-container-id-2 pre{padding: 0;}#sk-container-id-2 div.sk-toggleable {background-color: white;}#sk-container-id-2 label.sk-toggleable__label {cursor: pointer;display: block;width: 100%;margin-bottom: 0;padding: 0.3em;box-sizing: border-box;text-align: center;}#sk-container-id-2 label.sk-toggleable__label-arrow:before {content: \"▸\";float: left;margin-right: 0.25em;color: #696969;}#sk-container-id-2 label.sk-toggleable__label-arrow:hover:before {color: black;}#sk-container-id-2 div.sk-estimator:hover label.sk-toggleable__label-arrow:before {color: black;}#sk-container-id-2 div.sk-toggleable__content {max-height: 0;max-width: 0;overflow: hidden;text-align: left;background-color: #f0f8ff;}#sk-container-id-2 div.sk-toggleable__content pre {margin: 0.2em;color: black;border-radius: 0.25em;background-color: #f0f8ff;}#sk-container-id-2 input.sk-toggleable__control:checked~div.sk-toggleable__content {max-height: 200px;max-width: 100%;overflow: auto;}#sk-container-id-2 input.sk-toggleable__control:checked~label.sk-toggleable__label-arrow:before {content: \"▾\";}#sk-container-id-2 div.sk-estimator input.sk-toggleable__control:checked~label.sk-toggleable__label {background-color: #d4ebff;}#sk-container-id-2 div.sk-label input.sk-toggleable__control:checked~label.sk-toggleable__label {background-color: #d4ebff;}#sk-container-id-2 input.sk-hidden--visually {border: 0;clip: rect(1px 1px 1px 1px);clip: rect(1px, 1px, 1px, 1px);height: 1px;margin: -1px;overflow: hidden;padding: 0;position: absolute;width: 1px;}#sk-container-id-2 div.sk-estimator {font-family: monospace;background-color: #f0f8ff;border: 1px dotted black;border-radius: 0.25em;box-sizing: border-box;margin-bottom: 0.5em;}#sk-container-id-2 div.sk-estimator:hover {background-color: #d4ebff;}#sk-container-id-2 div.sk-parallel-item::after {content: \"\";width: 100%;border-bottom: 1px solid gray;flex-grow: 1;}#sk-container-id-2 div.sk-label:hover label.sk-toggleable__label {background-color: #d4ebff;}#sk-container-id-2 div.sk-serial::before {content: \"\";position: absolute;border-left: 1px solid gray;box-sizing: border-box;top: 0;bottom: 0;left: 50%;z-index: 0;}#sk-container-id-2 div.sk-serial {display: flex;flex-direction: column;align-items: center;background-color: white;padding-right: 0.2em;padding-left: 0.2em;position: relative;}#sk-container-id-2 div.sk-item {position: relative;z-index: 1;}#sk-container-id-2 div.sk-parallel {display: flex;align-items: stretch;justify-content: center;background-color: white;position: relative;}#sk-container-id-2 div.sk-item::before, #sk-container-id-2 div.sk-parallel-item::before {content: \"\";position: absolute;border-left: 1px solid gray;box-sizing: border-box;top: 0;bottom: 0;left: 50%;z-index: -1;}#sk-container-id-2 div.sk-parallel-item {display: flex;flex-direction: column;z-index: 1;position: relative;background-color: white;}#sk-container-id-2 div.sk-parallel-item:first-child::after {align-self: flex-end;width: 50%;}#sk-container-id-2 div.sk-parallel-item:last-child::after {align-self: flex-start;width: 50%;}#sk-container-id-2 div.sk-parallel-item:only-child::after {width: 0;}#sk-container-id-2 div.sk-dashed-wrapped {border: 1px dashed gray;margin: 0 0.4em 0.5em 0.4em;box-sizing: border-box;padding-bottom: 0.4em;background-color: white;}#sk-container-id-2 div.sk-label label {font-family: monospace;font-weight: bold;display: inline-block;line-height: 1.2em;}#sk-container-id-2 div.sk-label-container {text-align: center;}#sk-container-id-2 div.sk-container {/* jupyter's `normalize.less` sets `[hidden] { display: none; }` but bootstrap.min.css set `[hidden] { display: none !important; }` so we also need the `!important` here to be able to override the default hidden behavior on the sphinx rendered scikit-learn.org. See: https://github.com/scikit-learn/scikit-learn/issues/21755 */display: inline-block !important;position: relative;}#sk-container-id-2 div.sk-text-repr-fallback {display: none;}</style><div id=\"sk-container-id-2\" class=\"sk-top-container\"><div class=\"sk-text-repr-fallback\"><pre>SVC(C=1, gamma=1)</pre><b>In a Jupyter environment, please rerun this cell to show the HTML representation or trust the notebook. <br />On GitHub, the HTML representation is unable to render, please try loading this page with nbviewer.org.</b></div><div class=\"sk-container\" hidden><div class=\"sk-item\"><div class=\"sk-estimator sk-toggleable\"><input class=\"sk-toggleable__control sk-hidden--visually\" id=\"sk-estimator-id-8\" type=\"checkbox\" checked><label for=\"sk-estimator-id-8\" class=\"sk-toggleable__label sk-toggleable__label-arrow\">SVC</label><div class=\"sk-toggleable__content\"><pre>SVC(C=1, gamma=1)</pre></div></div></div></div></div>"
      ],
      "text/plain": [
       "SVC(C=1, gamma=1)"
      ]
     },
     "execution_count": 41,
     "metadata": {},
     "output_type": "execute_result"
    }
   ],
   "source": [
    "model_svm = SVC(kernel='rbf', C=1, gamma=1)\n",
    "model_svm.fit(x_train, y_train)"
   ]
  },
  {
   "cell_type": "markdown",
   "metadata": {},
   "source": [
    "### 5.2.1 Test SVM model on x_test and show the classification report on the y_test and y_predict_svm"
   ]
  },
  {
   "cell_type": "code",
   "execution_count": 44,
   "metadata": {},
   "outputs": [
    {
     "name": "stdout",
     "output_type": "stream",
     "text": [
      "classification_report for C = 1\n",
      "              precision    recall  f1-score   support\n",
      "\n",
      "         0.0       0.99      1.00      0.99     31136\n",
      "         1.0       0.62      0.03      0.06       411\n",
      "\n",
      "    accuracy                           0.99     31547\n",
      "   macro avg       0.80      0.52      0.53     31547\n",
      "weighted avg       0.98      0.99      0.98     31547\n",
      "\n"
     ]
    }
   ],
   "source": [
    "# test/predict\n",
    "y_predict_svm = model_svm.predict(x_test)\n",
    "\n",
    "# classification report\n",
    "print(f'classification_report for C = 1')\n",
    "print(classification_report(y_test, y_predict_svm))"
   ]
  },
  {
   "cell_type": "markdown",
   "metadata": {},
   "source": [
    "### 5.2.2 Display confusion matrix of SVM test results"
   ]
  },
  {
   "cell_type": "code",
   "execution_count": 45,
   "metadata": {},
   "outputs": [
    {
     "data": {
      "text/plain": [
       "<sklearn.metrics._plot.confusion_matrix.ConfusionMatrixDisplay at 0x19b30e46610>"
      ]
     },
     "execution_count": 45,
     "metadata": {},
     "output_type": "execute_result"
    },
    {
     "data": {
      "image/png": "[encoded data removed]",
      "text/plain": [
       "<Figure size 640x480 with 2 Axes>"
      ]
     },
     "metadata": {},
     "output_type": "display_data"
    }
   ],
   "source": [
    "ConfusionMatrixDisplay.from_predictions(y_test, y_predict_svm)"
   ]
  },
  {
   "cell_type": "markdown",
   "metadata": {},
   "source": [
    "### 5.3 Train a Decision Tree model to predict whether product is best seller"
   ]
  },
  {
   "cell_type": "code",
   "execution_count": 47,
   "metadata": {},
   "outputs": [],
   "source": [
    "# import required libraries\n",
    "from sklearn import tree"
   ]
  },
  {
   "cell_type": "code",
   "execution_count": 48,
   "metadata": {},
   "outputs": [
    {
     "data": {
      "text/html": [
       "<style>#sk-container-id-3 {color: black;}#sk-container-id-3 pre{padding: 0;}#sk-container-id-3 div.sk-toggleable {background-color: white;}#sk-container-id-3 label.sk-toggleable__label {cursor: pointer;display: block;width: 100%;margin-bottom: 0;padding: 0.3em;box-sizing: border-box;text-align: center;}#sk-container-id-3 label.sk-toggleable__label-arrow:before {content: \"▸\";float: left;margin-right: 0.25em;color: #696969;}#sk-container-id-3 label.sk-toggleable__label-arrow:hover:before {color: black;}#sk-container-id-3 div.sk-estimator:hover label.sk-toggleable__label-arrow:before {color: black;}#sk-container-id-3 div.sk-toggleable__content {max-height: 0;max-width: 0;overflow: hidden;text-align: left;background-color: #f0f8ff;}#sk-container-id-3 div.sk-toggleable__content pre {margin: 0.2em;color: black;border-radius: 0.25em;background-color: #f0f8ff;}#sk-container-id-3 input.sk-toggleable__control:checked~div.sk-toggleable__content {max-height: 200px;max-width: 100%;overflow: auto;}#sk-container-id-3 input.sk-toggleable__control:checked~label.sk-toggleable__label-arrow:before {content: \"▾\";}#sk-container-id-3 div.sk-estimator input.sk-toggleable__control:checked~label.sk-toggleable__label {background-color: #d4ebff;}#sk-container-id-3 div.sk-label input.sk-toggleable__control:checked~label.sk-toggleable__label {background-color: #d4ebff;}#sk-container-id-3 input.sk-hidden--visually {border: 0;clip: rect(1px 1px 1px 1px);clip: rect(1px, 1px, 1px, 1px);height: 1px;margin: -1px;overflow: hidden;padding: 0;position: absolute;width: 1px;}#sk-container-id-3 div.sk-estimator {font-family: monospace;background-color: #f0f8ff;border: 1px dotted black;border-radius: 0.25em;box-sizing: border-box;margin-bottom: 0.5em;}#sk-container-id-3 div.sk-estimator:hover {background-color: #d4ebff;}#sk-container-id-3 div.sk-parallel-item::after {content: \"\";width: 100%;border-bottom: 1px solid gray;flex-grow: 1;}#sk-container-id-3 div.sk-label:hover label.sk-toggleable__label {background-color: #d4ebff;}#sk-container-id-3 div.sk-serial::before {content: \"\";position: absolute;border-left: 1px solid gray;box-sizing: border-box;top: 0;bottom: 0;left: 50%;z-index: 0;}#sk-container-id-3 div.sk-serial {display: flex;flex-direction: column;align-items: center;background-color: white;padding-right: 0.2em;padding-left: 0.2em;position: relative;}#sk-container-id-3 div.sk-item {position: relative;z-index: 1;}#sk-container-id-3 div.sk-parallel {display: flex;align-items: stretch;justify-content: center;background-color: white;position: relative;}#sk-container-id-3 div.sk-item::before, #sk-container-id-3 div.sk-parallel-item::before {content: \"\";position: absolute;border-left: 1px solid gray;box-sizing: border-box;top: 0;bottom: 0;left: 50%;z-index: -1;}#sk-container-id-3 div.sk-parallel-item {display: flex;flex-direction: column;z-index: 1;position: relative;background-color: white;}#sk-container-id-3 div.sk-parallel-item:first-child::after {align-self: flex-end;width: 50%;}#sk-container-id-3 div.sk-parallel-item:last-child::after {align-self: flex-start;width: 50%;}#sk-container-id-3 div.sk-parallel-item:only-child::after {width: 0;}#sk-container-id-3 div.sk-dashed-wrapped {border: 1px dashed gray;margin: 0 0.4em 0.5em 0.4em;box-sizing: border-box;padding-bottom: 0.4em;background-color: white;}#sk-container-id-3 div.sk-label label {font-family: monospace;font-weight: bold;display: inline-block;line-height: 1.2em;}#sk-container-id-3 div.sk-label-container {text-align: center;}#sk-container-id-3 div.sk-container {/* jupyter's `normalize.less` sets `[hidden] { display: none; }` but bootstrap.min.css set `[hidden] { display: none !important; }` so we also need the `!important` here to be able to override the default hidden behavior on the sphinx rendered scikit-learn.org. See: https://github.com/scikit-learn/scikit-learn/issues/21755 */display: inline-block !important;position: relative;}#sk-container-id-3 div.sk-text-repr-fallback {display: none;}</style><div id=\"sk-container-id-3\" class=\"sk-top-container\"><div class=\"sk-text-repr-fallback\"><pre>DecisionTreeClassifier()</pre><b>In a Jupyter environment, please rerun this cell to show the HTML representation or trust the notebook. <br />On GitHub, the HTML representation is unable to render, please try loading this page with nbviewer.org.</b></div><div class=\"sk-container\" hidden><div class=\"sk-item\"><div class=\"sk-estimator sk-toggleable\"><input class=\"sk-toggleable__control sk-hidden--visually\" id=\"sk-estimator-id-9\" type=\"checkbox\" checked><label for=\"sk-estimator-id-9\" class=\"sk-toggleable__label sk-toggleable__label-arrow\">DecisionTreeClassifier</label><div class=\"sk-toggleable__content\"><pre>DecisionTreeClassifier()</pre></div></div></div></div></div>"
      ],
      "text/plain": [
       "DecisionTreeClassifier()"
      ]
     },
     "execution_count": 48,
     "metadata": {},
     "output_type": "execute_result"
    }
   ],
   "source": [
    "# create decision tree classifier\n",
    "model_dec_tree = tree.DecisionTreeClassifier()\n",
    "\n",
    "# train the model\n",
    "model_dec_tree.fit(x_train, y_train)"
   ]
  },
  {
   "cell_type": "markdown",
   "metadata": {},
   "source": [
    "### 5.3.1 Test Decision tree model on x_test and show the classification report on the y_test and y_predict_dec_tree"
   ]
  },
  {
   "cell_type": "code",
   "execution_count": 50,
   "metadata": {},
   "outputs": [
    {
     "name": "stdout",
     "output_type": "stream",
     "text": [
      "              precision    recall  f1-score   support\n",
      "\n",
      "         0.0       0.99      0.99      0.99     31136\n",
      "         1.0       0.12      0.14      0.13       411\n",
      "\n",
      "    accuracy                           0.98     31547\n",
      "   macro avg       0.56      0.56      0.56     31547\n",
      "weighted avg       0.98      0.98      0.98     31547\n",
      "\n"
     ]
    }
   ],
   "source": [
    "# test/predict\n",
    "y_predict_dec_tree = model_dec_tree.predict(x_test)\n",
    "\n",
    "# classification report\n",
    "print(classification_report(y_test, y_predict_dec_tree))"
   ]
  },
  {
   "cell_type": "markdown",
   "metadata": {},
   "source": [
    "### 5.3.2 Display confusion matrix of Decision Tree test results"
   ]
  },
  {
   "cell_type": "code",
   "execution_count": 51,
   "metadata": {},
   "outputs": [
    {
     "data": {
      "text/plain": [
       "<sklearn.metrics._plot.confusion_matrix.ConfusionMatrixDisplay at 0x19b44a7b210>"
      ]
     },
     "execution_count": 51,
     "metadata": {},
     "output_type": "execute_result"
    },
    {
     "data": {
      "image/png": "[encoded data removed]",
      "text/plain": [
       "<Figure size 640x480 with 2 Axes>"
      ]
     },
     "metadata": {},
     "output_type": "display_data"
    }
   ],
   "source": [
    "ConfusionMatrixDisplay.from_predictions(y_test, y_predict_dec_tree)"
   ]
  },
  {
   "cell_type": "markdown",
   "metadata": {},
   "source": [
    "### 5.4 Train a (Gaussian) Naive Bayes model to predict whether product is best seller"
   ]
  },
  {
   "cell_type": "code",
   "execution_count": 52,
   "metadata": {},
   "outputs": [],
   "source": [
    "# import required library\n",
    "from sklearn.naive_bayes import GaussianNB"
   ]
  },
  {
   "cell_type": "code",
   "execution_count": 53,
   "metadata": {},
   "outputs": [],
   "source": [
    "# create gaussian naive bayes classifier\n",
    "model_gaus_nb = GaussianNB()"
   ]
  },
  {
   "cell_type": "code",
   "execution_count": 54,
   "metadata": {},
   "outputs": [
    {
     "data": {
      "text/html": [
       "<style>#sk-container-id-4 {color: black;}#sk-container-id-4 pre{padding: 0;}#sk-container-id-4 div.sk-toggleable {background-color: white;}#sk-container-id-4 label.sk-toggleable__label {cursor: pointer;display: block;width: 100%;margin-bottom: 0;padding: 0.3em;box-sizing: border-box;text-align: center;}#sk-container-id-4 label.sk-toggleable__label-arrow:before {content: \"▸\";float: left;margin-right: 0.25em;color: #696969;}#sk-container-id-4 label.sk-toggleable__label-arrow:hover:before {color: black;}#sk-container-id-4 div.sk-estimator:hover label.sk-toggleable__label-arrow:before {color: black;}#sk-container-id-4 div.sk-toggleable__content {max-height: 0;max-width: 0;overflow: hidden;text-align: left;background-color: #f0f8ff;}#sk-container-id-4 div.sk-toggleable__content pre {margin: 0.2em;color: black;border-radius: 0.25em;background-color: #f0f8ff;}#sk-container-id-4 input.sk-toggleable__control:checked~div.sk-toggleable__content {max-height: 200px;max-width: 100%;overflow: auto;}#sk-container-id-4 input.sk-toggleable__control:checked~label.sk-toggleable__label-arrow:before {content: \"▾\";}#sk-container-id-4 div.sk-estimator input.sk-toggleable__control:checked~label.sk-toggleable__label {background-color: #d4ebff;}#sk-container-id-4 div.sk-label input.sk-toggleable__control:checked~label.sk-toggleable__label {background-color: #d4ebff;}#sk-container-id-4 input.sk-hidden--visually {border: 0;clip: rect(1px 1px 1px 1px);clip: rect(1px, 1px, 1px, 1px);height: 1px;margin: -1px;overflow: hidden;padding: 0;position: absolute;width: 1px;}#sk-container-id-4 div.sk-estimator {font-family: monospace;background-color: #f0f8ff;border: 1px dotted black;border-radius: 0.25em;box-sizing: border-box;margin-bottom: 0.5em;}#sk-container-id-4 div.sk-estimator:hover {background-color: #d4ebff;}#sk-container-id-4 div.sk-parallel-item::after {content: \"\";width: 100%;border-bottom: 1px solid gray;flex-grow: 1;}#sk-container-id-4 div.sk-label:hover label.sk-toggleable__label {background-color: #d4ebff;}#sk-container-id-4 div.sk-serial::before {content: \"\";position: absolute;border-left: 1px solid gray;box-sizing: border-box;top: 0;bottom: 0;left: 50%;z-index: 0;}#sk-container-id-4 div.sk-serial {display: flex;flex-direction: column;align-items: center;background-color: white;padding-right: 0.2em;padding-left: 0.2em;position: relative;}#sk-container-id-4 div.sk-item {position: relative;z-index: 1;}#sk-container-id-4 div.sk-parallel {display: flex;align-items: stretch;justify-content: center;background-color: white;position: relative;}#sk-container-id-4 div.sk-item::before, #sk-container-id-4 div.sk-parallel-item::before {content: \"\";position: absolute;border-left: 1px solid gray;box-sizing: border-box;top: 0;bottom: 0;left: 50%;z-index: -1;}#sk-container-id-4 div.sk-parallel-item {display: flex;flex-direction: column;z-index: 1;position: relative;background-color: white;}#sk-container-id-4 div.sk-parallel-item:first-child::after {align-self: flex-end;width: 50%;}#sk-container-id-4 div.sk-parallel-item:last-child::after {align-self: flex-start;width: 50%;}#sk-container-id-4 div.sk-parallel-item:only-child::after {width: 0;}#sk-container-id-4 div.sk-dashed-wrapped {border: 1px dashed gray;margin: 0 0.4em 0.5em 0.4em;box-sizing: border-box;padding-bottom: 0.4em;background-color: white;}#sk-container-id-4 div.sk-label label {font-family: monospace;font-weight: bold;display: inline-block;line-height: 1.2em;}#sk-container-id-4 div.sk-label-container {text-align: center;}#sk-container-id-4 div.sk-container {/* jupyter's `normalize.less` sets `[hidden] { display: none; }` but bootstrap.min.css set `[hidden] { display: none !important; }` so we also need the `!important` here to be able to override the default hidden behavior on the sphinx rendered scikit-learn.org. See: https://github.com/scikit-learn/scikit-learn/issues/21755 */display: inline-block !important;position: relative;}#sk-container-id-4 div.sk-text-repr-fallback {display: none;}</style><div id=\"sk-container-id-4\" class=\"sk-top-container\"><div class=\"sk-text-repr-fallback\"><pre>GaussianNB()</pre><b>In a Jupyter environment, please rerun this cell to show the HTML representation or trust the notebook. <br />On GitHub, the HTML representation is unable to render, please try loading this page with nbviewer.org.</b></div><div class=\"sk-container\" hidden><div class=\"sk-item\"><div class=\"sk-estimator sk-toggleable\"><input class=\"sk-toggleable__control sk-hidden--visually\" id=\"sk-estimator-id-10\" type=\"checkbox\" checked><label for=\"sk-estimator-id-10\" class=\"sk-toggleable__label sk-toggleable__label-arrow\">GaussianNB</label><div class=\"sk-toggleable__content\"><pre>GaussianNB()</pre></div></div></div></div></div>"
      ],
      "text/plain": [
       "GaussianNB()"
      ]
     },
     "execution_count": 54,
     "metadata": {},
     "output_type": "execute_result"
    }
   ],
   "source": [
    "# train the model\n",
    "model_gaus_nb.fit(x_train, y_train)"
   ]
  },
  {
   "cell_type": "markdown",
   "metadata": {},
   "source": [
    "### 5.4.1 Test Naive Bayes model on x_test and show the classification report on the y_test and y_predict_gaus_nb"
   ]
  },
  {
   "cell_type": "code",
   "execution_count": 55,
   "metadata": {},
   "outputs": [
    {
     "name": "stdout",
     "output_type": "stream",
     "text": [
      "              precision    recall  f1-score   support\n",
      "\n",
      "         0.0       1.00      0.21      0.35     31136\n",
      "         1.0       0.02      0.99      0.03       411\n",
      "\n",
      "    accuracy                           0.22     31547\n",
      "   macro avg       0.51      0.60      0.19     31547\n",
      "weighted avg       0.99      0.22      0.34     31547\n",
      "\n"
     ]
    }
   ],
   "source": [
    "# test/predict\n",
    "y_predict_gaus_nb = model_gaus_nb.predict(x_test)\n",
    "\n",
    "# classification report\n",
    "print(classification_report(y_test, y_predict_gaus_nb))"
   ]
  },
  {
   "cell_type": "markdown",
   "metadata": {},
   "source": [
    "### 5.4.2 Display confusion matrix of (Gaussian) Naive Bayes test results"
   ]
  },
  {
   "cell_type": "code",
   "execution_count": 56,
   "metadata": {},
   "outputs": [
    {
     "data": {
      "text/plain": [
       "<sklearn.metrics._plot.confusion_matrix.ConfusionMatrixDisplay at 0x19b48350090>"
      ]
     },
     "execution_count": 56,
     "metadata": {},
     "output_type": "execute_result"
    },
    {
     "data": {
      "image/png": "[encoded data removed]",
      "text/plain": [
       "<Figure size 640x480 with 2 Axes>"
      ]
     },
     "metadata": {},
     "output_type": "display_data"
    }
   ],
   "source": [
    "ConfusionMatrixDisplay.from_predictions(y_test, y_predict_gaus_nb)"
   ]
  },
  {
   "cell_type": "markdown",
   "metadata": {},
   "source": [
    "Out of these 3 models, SVM seems to be the best, so now we fine tune that model."
   ]
  },
  {
   "cell_type": "markdown",
   "metadata": {},
   "source": [
    "### 6 - Fine tune our SVM model\n",
    "\n",
    "Use GridSearchCV to find the best value of gamma and C for the SVM model"
   ]
  },
  {
   "cell_type": "markdown",
   "metadata": {},
   "source": [
    "### 6.1 - Split the dataset into 60% training, 20% validation, and 20% testing"
   ]
  },
  {
   "cell_type": "code",
   "execution_count": 41,
   "metadata": {},
   "outputs": [
    {
     "name": "stdout",
     "output_type": "stream",
     "text": [
      "(94639, 265) (94639,) (31547, 265) (31547,) (31547, 265) (31547,)\n"
     ]
    }
   ],
   "source": [
    "# code author Ruba Al Omari\n",
    "\n",
    "X_train, X_validation_test, Y_train, Y_validation_test = train_test_split(x, y, test_size=0.4, random_state=42)\n",
    "\n",
    "X_validation, X_test, Y_validation, Y_test = train_test_split(X_validation_test, Y_validation_test, test_size=0.5, random_state=42)\n",
    "\n",
    "print(X_train.shape, Y_train.shape, X_validation.shape, Y_validation.shape, X_test.shape, Y_test.shape)"
   ]
  },
  {
   "cell_type": "markdown",
   "metadata": {},
   "source": [
    "### 6.2 - Pass the following hyperparameters for the GridSearchCV to find the best ones and check the svm winner parameters"
   ]
  },
  {
   "cell_type": "code",
   "execution_count": 42,
   "metadata": {},
   "outputs": [],
   "source": [
    "# import required library\n",
    "from sklearn.model_selection import GridSearchCV"
   ]
  },
  {
   "cell_type": "code",
   "execution_count": 43,
   "metadata": {},
   "outputs": [
    {
     "data": {
      "text/plain": [
       "0.9867499286778457"
      ]
     },
     "execution_count": 43,
     "metadata": {},
     "output_type": "execute_result"
    }
   ],
   "source": [
    "# we decided to use just the first 30K instances of X_train and Y_train for training since using the full training set was taking too long\n",
    "\n",
    "# code author luisguiserrano\n",
    "\n",
    "svm_params = {'kernel': ['rbf'], 'C': [0.01, 0.1, 1 , 10], 'gamma': [0.01, 1, 10]}\n",
    "\n",
    "model_svm_new = SVC()\n",
    "svm_gs = GridSearchCV(estimator = model_svm_new, param_grid = svm_params)\n",
    "svm_gs.fit(X_train.iloc[:30000], Y_train.iloc[:30000])\n",
    "\n",
    "svm_winner = svm_gs.best_estimator_\n",
    "svm_winner.score(X_validation, Y_validation)"
   ]
  },
  {
   "cell_type": "code",
   "execution_count": 44,
   "metadata": {},
   "outputs": [
    {
     "data": {
      "text/html": [
       "<style>#sk-container-id-2 {color: black;}#sk-container-id-2 pre{padding: 0;}#sk-container-id-2 div.sk-toggleable {background-color: white;}#sk-container-id-2 label.sk-toggleable__label {cursor: pointer;display: block;width: 100%;margin-bottom: 0;padding: 0.3em;box-sizing: border-box;text-align: center;}#sk-container-id-2 label.sk-toggleable__label-arrow:before {content: \"▸\";float: left;margin-right: 0.25em;color: #696969;}#sk-container-id-2 label.sk-toggleable__label-arrow:hover:before {color: black;}#sk-container-id-2 div.sk-estimator:hover label.sk-toggleable__label-arrow:before {color: black;}#sk-container-id-2 div.sk-toggleable__content {max-height: 0;max-width: 0;overflow: hidden;text-align: left;background-color: #f0f8ff;}#sk-container-id-2 div.sk-toggleable__content pre {margin: 0.2em;color: black;border-radius: 0.25em;background-color: #f0f8ff;}#sk-container-id-2 input.sk-toggleable__control:checked~div.sk-toggleable__content {max-height: 200px;max-width: 100%;overflow: auto;}#sk-container-id-2 input.sk-toggleable__control:checked~label.sk-toggleable__label-arrow:before {content: \"▾\";}#sk-container-id-2 div.sk-estimator input.sk-toggleable__control:checked~label.sk-toggleable__label {background-color: #d4ebff;}#sk-container-id-2 div.sk-label input.sk-toggleable__control:checked~label.sk-toggleable__label {background-color: #d4ebff;}#sk-container-id-2 input.sk-hidden--visually {border: 0;clip: rect(1px 1px 1px 1px);clip: rect(1px, 1px, 1px, 1px);height: 1px;margin: -1px;overflow: hidden;padding: 0;position: absolute;width: 1px;}#sk-container-id-2 div.sk-estimator {font-family: monospace;background-color: #f0f8ff;border: 1px dotted black;border-radius: 0.25em;box-sizing: border-box;margin-bottom: 0.5em;}#sk-container-id-2 div.sk-estimator:hover {background-color: #d4ebff;}#sk-container-id-2 div.sk-parallel-item::after {content: \"\";width: 100%;border-bottom: 1px solid gray;flex-grow: 1;}#sk-container-id-2 div.sk-label:hover label.sk-toggleable__label {background-color: #d4ebff;}#sk-container-id-2 div.sk-serial::before {content: \"\";position: absolute;border-left: 1px solid gray;box-sizing: border-box;top: 0;bottom: 0;left: 50%;z-index: 0;}#sk-container-id-2 div.sk-serial {display: flex;flex-direction: column;align-items: center;background-color: white;padding-right: 0.2em;padding-left: 0.2em;position: relative;}#sk-container-id-2 div.sk-item {position: relative;z-index: 1;}#sk-container-id-2 div.sk-parallel {display: flex;align-items: stretch;justify-content: center;background-color: white;position: relative;}#sk-container-id-2 div.sk-item::before, #sk-container-id-2 div.sk-parallel-item::before {content: \"\";position: absolute;border-left: 1px solid gray;box-sizing: border-box;top: 0;bottom: 0;left: 50%;z-index: -1;}#sk-container-id-2 div.sk-parallel-item {display: flex;flex-direction: column;z-index: 1;position: relative;background-color: white;}#sk-container-id-2 div.sk-parallel-item:first-child::after {align-self: flex-end;width: 50%;}#sk-container-id-2 div.sk-parallel-item:last-child::after {align-self: flex-start;width: 50%;}#sk-container-id-2 div.sk-parallel-item:only-child::after {width: 0;}#sk-container-id-2 div.sk-dashed-wrapped {border: 1px dashed gray;margin: 0 0.4em 0.5em 0.4em;box-sizing: border-box;padding-bottom: 0.4em;background-color: white;}#sk-container-id-2 div.sk-label label {font-family: monospace;font-weight: bold;display: inline-block;line-height: 1.2em;}#sk-container-id-2 div.sk-label-container {text-align: center;}#sk-container-id-2 div.sk-container {/* jupyter's `normalize.less` sets `[hidden] { display: none; }` but bootstrap.min.css set `[hidden] { display: none !important; }` so we also need the `!important` here to be able to override the default hidden behavior on the sphinx rendered scikit-learn.org. See: https://github.com/scikit-learn/scikit-learn/issues/21755 */display: inline-block !important;position: relative;}#sk-container-id-2 div.sk-text-repr-fallback {display: none;}</style><div id=\"sk-container-id-2\" class=\"sk-top-container\"><div class=\"sk-text-repr-fallback\"><pre>SVC(C=1, gamma=10)</pre><b>In a Jupyter environment, please rerun this cell to show the HTML representation or trust the notebook. <br />On GitHub, the HTML representation is unable to render, please try loading this page with nbviewer.org.</b></div><div class=\"sk-container\" hidden><div class=\"sk-item\"><div class=\"sk-estimator sk-toggleable\"><input class=\"sk-toggleable__control sk-hidden--visually\" id=\"sk-estimator-id-8\" type=\"checkbox\" checked><label for=\"sk-estimator-id-8\" class=\"sk-toggleable__label sk-toggleable__label-arrow\">SVC</label><div class=\"sk-toggleable__content\"><pre>SVC(C=1, gamma=10)</pre></div></div></div></div></div>"
      ],
      "text/plain": [
       "SVC(C=1, gamma=10)"
      ]
     },
     "execution_count": 44,
     "metadata": {},
     "output_type": "execute_result"
    }
   ],
   "source": [
    "svm_winner"
   ]
  },
  {
   "cell_type": "markdown",
   "metadata": {},
   "source": [
    "### 6.3 Test the new SVM model on X_test and show the classification report on the Y_test and Y_predict_svm_winner"
   ]
  },
  {
   "cell_type": "code",
   "execution_count": 45,
   "metadata": {},
   "outputs": [
    {
     "name": "stdout",
     "output_type": "stream",
     "text": [
      "              precision    recall  f1-score   support\n",
      "\n",
      "         0.0       0.99      1.00      0.99     31133\n",
      "         1.0       0.40      0.00      0.01       414\n",
      "\n",
      "    accuracy                           0.99     31547\n",
      "   macro avg       0.69      0.50      0.50     31547\n",
      "weighted avg       0.98      0.99      0.98     31547\n",
      "\n"
     ]
    }
   ],
   "source": [
    "# test/predict\n",
    "Y_predict_svm_winner = svm_winner.predict(X_test)\n",
    "\n",
    "# classification report\n",
    "print(classification_report(Y_test, Y_predict_svm_winner))"
   ]
  },
  {
   "cell_type": "markdown",
   "metadata": {},
   "source": [
    "### 6.4 Display graphs of the model"
   ]
  },
  {
   "cell_type": "markdown",
   "metadata": {},
   "source": [
    "### 6.4.1 Display confusion matrix of SVM test results"
   ]
  },
  {
   "cell_type": "code",
   "execution_count": 46,
   "metadata": {},
   "outputs": [
    {
     "data": {
      "text/plain": [
       "<sklearn.metrics._plot.confusion_matrix.ConfusionMatrixDisplay at 0x25288f4d550>"
      ]
     },
     "execution_count": 46,
     "metadata": {},
     "output_type": "execute_result"
    },
    {
     "data": {
      "image/png": "[encoded data removed]",
      "text/plain": [
       "<Figure size 640x480 with 2 Axes>"
      ]
     },
     "metadata": {},
     "output_type": "display_data"
    }
   ],
   "source": [
    "ConfusionMatrixDisplay.from_predictions(Y_test, Y_predict_svm_winner)"
   ]
  },
  {
   "cell_type": "markdown",
   "metadata": {},
   "source": [
    "### 6.4.2 Point Plot"
   ]
  },
  {
   "cell_type": "code",
   "execution_count": 54,
   "metadata": {},
   "outputs": [],
   "source": [
    "from sklearn.metrics import RocCurveDisplay"
   ]
  },
  {
   "cell_type": "code",
   "execution_count": 56,
   "metadata": {},
   "outputs": [
    {
     "data": {
      "image/png": "[encoded data removed]",
      "text/plain": [
       "<Figure size 640x480 with 1 Axes>"
      ]
     },
     "metadata": {},
     "output_type": "display_data"
    }
   ],
   "source": [
    "svc_display = RocCurveDisplay.from_estimator(svm_winner, X_test, Y_test)"
   ]
  },
  {
   "cell_type": "markdown",
   "metadata": {},
   "source": [
    "### 6.4.1 Precision Recall Display"
   ]
  },
  {
   "cell_type": "code",
   "execution_count": 57,
   "metadata": {},
   "outputs": [],
   "source": [
    "from sklearn.metrics import (precision_recall_curve, PrecisionRecallDisplay)"
   ]
  },
  {
   "cell_type": "code",
   "execution_count": 58,
   "metadata": {},
   "outputs": [
    {
     "data": {
      "image/png": "[encoded data removed]",
      "text/plain": [
       "<Figure size 640x480 with 1 Axes>"
      ]
     },
     "metadata": {},
     "output_type": "display_data"
    }
   ],
   "source": [
    "# from: https://scikit-learn.org/stable/modules/generated/sklearn.metrics.PrecisionRecallDisplay.html\n",
    "precision, recall, _ = precision_recall_curve(Y_test, Y_predict_svm_winner)\n",
    "disp = PrecisionRecallDisplay(precision=precision, recall=recall)\n",
    "disp.plot()\n",
    "plt.show()"
   ]
  }
 ],
 "metadata": {
  "kernelspec": {
   "display_name": "Python 3",
   "language": "python",
   "name": "python3"
  },
  "language_info": {
   "codemirror_mode": {
    "name": "ipython",
    "version": 3
   },
   "file_extension": ".py",
   "mimetype": "text/x-python",
   "name": "python",
   "nbconvert_exporter": "python",
   "pygments_lexer": "ipython3",
   "version": "3.11.5"
  }
 },
 "nbformat": 4,
 "nbformat_minor": 2
}
